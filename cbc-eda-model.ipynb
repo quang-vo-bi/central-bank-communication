{
 "cells": [
  {
   "cell_type": "markdown",
   "id": "300d4526",
   "metadata": {
    "papermill": {
     "duration": 0.011278,
     "end_time": "2023-05-06T16:30:32.503559",
     "exception": false,
     "start_time": "2023-05-06T16:30:32.492281",
     "status": "completed"
    },
    "tags": []
   },
   "source": [
    "# Config"
   ]
  },
  {
   "cell_type": "code",
   "execution_count": 1,
   "id": "689faa16",
   "metadata": {
    "execution": {
     "iopub.execute_input": "2023-05-06T16:30:32.526265Z",
     "iopub.status.busy": "2023-05-06T16:30:32.525089Z",
     "iopub.status.idle": "2023-05-06T16:30:32.537022Z",
     "shell.execute_reply": "2023-05-06T16:30:32.535938Z"
    },
    "papermill": {
     "duration": 0.025491,
     "end_time": "2023-05-06T16:30:32.539289",
     "exception": false,
     "start_time": "2023-05-06T16:30:32.513798",
     "status": "completed"
    },
    "tags": []
   },
   "outputs": [],
   "source": [
    "import os\n",
    "data_dir = '/kaggle/input/cbc-data'"
   ]
  },
  {
   "cell_type": "code",
   "execution_count": 2,
   "id": "3c8a35a8",
   "metadata": {
    "execution": {
     "iopub.execute_input": "2023-05-06T16:30:32.561204Z",
     "iopub.status.busy": "2023-05-06T16:30:32.560291Z",
     "iopub.status.idle": "2023-05-06T16:30:32.568997Z",
     "shell.execute_reply": "2023-05-06T16:30:32.567947Z"
    },
    "papermill": {
     "duration": 0.022678,
     "end_time": "2023-05-06T16:30:32.571684",
     "exception": false,
     "start_time": "2023-05-06T16:30:32.549006",
     "status": "completed"
    },
    "tags": []
   },
   "outputs": [
    {
     "name": "stdout",
     "output_type": "stream",
     "text": [
      "Past rate change features:  ['past_rate_change_90D', 'past_rate_change_180D']\n",
      "Target:  predict_rate_change_90D\n"
     ]
    }
   ],
   "source": [
    "# Hyper-parameter\n",
    "VERSION = 1\n",
    "DEBUG = False\n",
    "EDA = True\n",
    "\n",
    "CENTRAL_BANK = ['ECB', 'Riksbank'] # Possible values: 'Riksbank', 'Finlands Bank', 'ECB'\n",
    "TRAIN_BANKS = ['ECB', 'Riksbank']\n",
    "\n",
    "FROM_DATE = '2002-04-02'\n",
    "TO_DATE = '2023-04-01'\n",
    "TRAIN_WINDOW = 12 # year\n",
    "TEST_WINDOW = 4 # year\n",
    "LAST_TRAIN_YEAR = 2023 - TRAIN_WINDOW - TEST_WINDOW\n",
    "\n",
    "\n",
    "# Topic keywords\n",
    "TOPIC_FILTER = True\n",
    "N_TOPICS = 6\n",
    "TOPIC_KEYWORD = ['monetary', 'policy', 'rate', 'inflation', 'exchange', 'payment', 'stability', 'objective']\n",
    "\n",
    "# Undersampling\n",
    "UNDERSAMPLING = True\n",
    "\n",
    "# Period to predict and periods used as features\n",
    "PREDICT_PERIOD = 90\n",
    "PAST_PERIOD = [90, 180]\n",
    "\n",
    "PREDICT_PERIOD_VARIABLE = f'predict_rate_change_{PREDICT_PERIOD}D'\n",
    "PAST_PERIOD_VARIABLE = [f'past_rate_change_{d}D' for d in PAST_PERIOD]\n",
    "\n",
    "# Classes\n",
    "CLASS = ['Decrease', 'Increase', 'Same']\n",
    "\n",
    "print(\"Past rate change features: \", PAST_PERIOD_VARIABLE)\n",
    "print(\"Target: \", PREDICT_PERIOD_VARIABLE)"
   ]
  },
  {
   "cell_type": "code",
   "execution_count": 3,
   "id": "5aeb8c0d",
   "metadata": {
    "execution": {
     "iopub.execute_input": "2023-05-06T16:30:32.593276Z",
     "iopub.status.busy": "2023-05-06T16:30:32.592977Z",
     "iopub.status.idle": "2023-05-06T16:30:32.600724Z",
     "shell.execute_reply": "2023-05-06T16:30:32.599780Z"
    },
    "papermill": {
     "duration": 0.020261,
     "end_time": "2023-05-06T16:30:32.602799",
     "exception": false,
     "start_time": "2023-05-06T16:30:32.582538",
     "status": "completed"
    },
    "tags": []
   },
   "outputs": [
    {
     "name": "stdout",
     "output_type": "stream",
     "text": [
      "deberta-v3-base_v1\n",
      "/kaggle/input/cbc-data/deberta-v3-base_v1\n"
     ]
    }
   ],
   "source": [
    "# Model parameter\n",
    "PRETRAINED_MODEL = 'microsoft/deberta-v3-base'\n",
    "\n",
    "MAX_LEN = 128\n",
    "\n",
    "MODEL_NAME = f'{PRETRAINED_MODEL.split(\"/\",1)[1]}_v{VERSION}'\n",
    "LOAD_MODEL_FROM = os.path.join(data_dir, MODEL_NAME)\n",
    "print(MODEL_NAME)\n",
    "print(LOAD_MODEL_FROM)\n",
    "\n",
    "LOAD_LDA_FROM = \"/kaggle/input/cbc-lda\""
   ]
  },
  {
   "cell_type": "code",
   "execution_count": 4,
   "id": "4d112f4c",
   "metadata": {
    "execution": {
     "iopub.execute_input": "2023-05-06T16:30:32.623275Z",
     "iopub.status.busy": "2023-05-06T16:30:32.622978Z",
     "iopub.status.idle": "2023-05-06T16:30:33.853417Z",
     "shell.execute_reply": "2023-05-06T16:30:33.852378Z"
    },
    "papermill": {
     "duration": 1.243694,
     "end_time": "2023-05-06T16:30:33.856015",
     "exception": false,
     "start_time": "2023-05-06T16:30:32.612321",
     "status": "completed"
    },
    "tags": []
   },
   "outputs": [],
   "source": [
    "# Import useful libraries \n",
    "import pandas as pd\n",
    "import numpy as np\n",
    "import re\n",
    "import random\n",
    "import time\n",
    "import pickle\n",
    "from ast import literal_eval\n",
    "import matplotlib.pyplot as plt\n",
    "from sklearn.metrics import confusion_matrix\n",
    "from sklearn.utils import shuffle\n",
    "from sklearn.preprocessing import OneHotEncoder, LabelEncoder\n",
    "\n",
    "import seaborn as sns\n",
    "sns.set_style(\"darkgrid\")\n",
    "sns.set(rc={'figure.figsize':(10,4)})"
   ]
  },
  {
   "cell_type": "code",
   "execution_count": 5,
   "id": "58d67b9a",
   "metadata": {
    "execution": {
     "iopub.execute_input": "2023-05-06T16:30:33.876674Z",
     "iopub.status.busy": "2023-05-06T16:30:33.876358Z",
     "iopub.status.idle": "2023-05-06T16:32:20.784689Z",
     "shell.execute_reply": "2023-05-06T16:32:20.783446Z"
    },
    "papermill": {
     "duration": 106.931701,
     "end_time": "2023-05-06T16:32:20.797400",
     "exception": false,
     "start_time": "2023-05-06T16:30:33.865699",
     "status": "completed"
    },
    "tags": []
   },
   "outputs": [
    {
     "name": "stderr",
     "output_type": "stream",
     "text": [
      "/opt/conda/lib/python3.7/site-packages/transformers/generation_utils.py:27: FutureWarning: Importing `GenerationMixin` from `src/transformers/generation_utils.py` is deprecated and will be removed in Transformers v5. Import as `from transformers import GenerationMixin` instead.\n",
      "  FutureWarning,\n",
      "/opt/conda/lib/python3.7/site-packages/transformers/generation_tf_utils.py:27: FutureWarning: Importing `TFGenerationMixin` from `src/transformers/generation_tf_utils.py` is deprecated and will be removed in Transformers v5. Import as `from transformers import TFGenerationMixin` instead.\n",
      "  FutureWarning,\n",
      "/opt/conda/lib/python3.7/site-packages/transformers/generation_flax_utils.py:27: FutureWarning: Importing `FlaxGenerationMixin` from `src/transformers/generation_flax_utils.py` is deprecated and will be removed in Transformers v5. Import as `from transformers import FlaxGenerationMixin` instead.\n",
      "  FutureWarning,\n",
      "Loading custom CUDA kernels...\n"
     ]
    },
    {
     "name": "stdout",
     "output_type": "stream",
     "text": [
      "DEVICES AVAILABLE: 2\n",
      "Mixed precision enabled\n"
     ]
    }
   ],
   "source": [
    "# Set up device: TPU or GPU\n",
    "from transformers import *\n",
    "import tensorflow as tf\n",
    "os.environ['TF_CPP_MIN_LOG_LEVEL'] = '3'\n",
    "\n",
    "try:\n",
    "    tpu = tf.distribute.cluster_resolver.TPUClusterResolver()\n",
    "    tf.config.experimental_connect_to_cluster(tpu)\n",
    "    tf.tpu.experimental.initialize_tpu_system(tpu)\n",
    "    strategy = tf.distribute.experimental.TPUStrategy(tpu)\n",
    "    print('TPU strategy')\n",
    "except:\n",
    "    if len(tf.config.list_physical_devices('GPU')) >= 2:\n",
    "        strategy = tf.distribute.MirroredStrategy()\n",
    "        print('DEVICES AVAILABLE: {}'.format(strategy.num_replicas_in_sync))\n",
    "    else:\n",
    "        strategy = tf.distribute.get_strategy()\n",
    "        print('single strategy')\n",
    "        \n",
    "tf.config.optimizer.set_experimental_options({\"auto_mixed_precision\": True})\n",
    "print('Mixed precision enabled')"
   ]
  },
  {
   "cell_type": "markdown",
   "id": "4b489cdb",
   "metadata": {
    "papermill": {
     "duration": 0.00924,
     "end_time": "2023-05-06T16:32:20.816202",
     "exception": false,
     "start_time": "2023-05-06T16:32:20.806962",
     "status": "completed"
    },
    "tags": []
   },
   "source": [
    "# Get data"
   ]
  },
  {
   "cell_type": "markdown",
   "id": "656598b1",
   "metadata": {
    "papermill": {
     "duration": 0.009712,
     "end_time": "2023-05-06T16:32:20.835421",
     "exception": false,
     "start_time": "2023-05-06T16:32:20.825709",
     "status": "completed"
    },
    "tags": []
   },
   "source": [
    "## Speeches"
   ]
  },
  {
   "cell_type": "markdown",
   "id": "d5cfc47a",
   "metadata": {
    "papermill": {
     "duration": 0.009479,
     "end_time": "2023-05-06T16:32:20.854399",
     "exception": false,
     "start_time": "2023-05-06T16:32:20.844920",
     "status": "completed"
    },
    "tags": []
   },
   "source": [
    "### Riksbank, Finlands Bank"
   ]
  },
  {
   "cell_type": "code",
   "execution_count": 6,
   "id": "7f65d65f",
   "metadata": {
    "execution": {
     "iopub.execute_input": "2023-05-06T16:32:20.876018Z",
     "iopub.status.busy": "2023-05-06T16:32:20.874506Z",
     "iopub.status.idle": "2023-05-06T16:32:21.169877Z",
     "shell.execute_reply": "2023-05-06T16:32:21.168816Z"
    },
    "papermill": {
     "duration": 0.308286,
     "end_time": "2023-05-06T16:32:21.172113",
     "exception": false,
     "start_time": "2023-05-06T16:32:20.863827",
     "status": "completed"
    },
    "tags": []
   },
   "outputs": [
    {
     "name": "stdout",
     "output_type": "stream",
     "text": [
      "df shape:  (713, 8)\n"
     ]
    },
    {
     "data": {
      "text/html": [
       "<div>\n",
       "<style scoped>\n",
       "    .dataframe tbody tr th:only-of-type {\n",
       "        vertical-align: middle;\n",
       "    }\n",
       "\n",
       "    .dataframe tbody tr th {\n",
       "        vertical-align: top;\n",
       "    }\n",
       "\n",
       "    .dataframe thead th {\n",
       "        text-align: right;\n",
       "    }\n",
       "</style>\n",
       "<table border=\"1\" class=\"dataframe\">\n",
       "  <thead>\n",
       "    <tr style=\"text-align: right;\">\n",
       "      <th></th>\n",
       "      <th>bank</th>\n",
       "      <th>policy_rate_control</th>\n",
       "      <th>id</th>\n",
       "      <th>date</th>\n",
       "      <th>speaker</th>\n",
       "      <th>speaker_title</th>\n",
       "      <th>article</th>\n",
       "      <th>article_len</th>\n",
       "    </tr>\n",
       "  </thead>\n",
       "  <tbody>\n",
       "    <tr>\n",
       "      <th>0</th>\n",
       "      <td>Riksbank</td>\n",
       "      <td>Riksbank</td>\n",
       "      <td>r23032023erlg</td>\n",
       "      <td>2023-03-23</td>\n",
       "      <td>Erik Thedéen Governor</td>\n",
       "      <td>Governor</td>\n",
       "      <td>[Mr Thedéen began his speech by commenting on...</td>\n",
       "      <td>8</td>\n",
       "    </tr>\n",
       "    <tr>\n",
       "      <th>1</th>\n",
       "      <td>Riksbank</td>\n",
       "      <td>Riksbank</td>\n",
       "      <td>r14032023erwt</td>\n",
       "      <td>2023-03-14</td>\n",
       "      <td>Erik Thedéen Governor</td>\n",
       "      <td>Governor</td>\n",
       "      <td>[Governor Erik Thedéen began the hearing by s...</td>\n",
       "      <td>9</td>\n",
       "    </tr>\n",
       "    <tr>\n",
       "      <th>2</th>\n",
       "      <td>Riksbank</td>\n",
       "      <td>Riksbank</td>\n",
       "      <td>r14032023aiek</td>\n",
       "      <td>2023-03-14</td>\n",
       "      <td>Aino Bunge Deputy Governor</td>\n",
       "      <td>Deputy Governor</td>\n",
       "      <td>[Governor Erik Thedéen began the hearing by s...</td>\n",
       "      <td>9</td>\n",
       "    </tr>\n",
       "    <tr>\n",
       "      <th>3</th>\n",
       "      <td>Riksbank</td>\n",
       "      <td>Riksbank</td>\n",
       "      <td>r09032023aibz</td>\n",
       "      <td>2023-03-09</td>\n",
       "      <td>Aino Bunge Deputy Governor</td>\n",
       "      <td>Deputy Governor</td>\n",
       "      <td>[“It is a tough situation for many people when...</td>\n",
       "      <td>4</td>\n",
       "    </tr>\n",
       "    <tr>\n",
       "      <th>4</th>\n",
       "      <td>Riksbank</td>\n",
       "      <td>Riksbank</td>\n",
       "      <td>r31012023erds</td>\n",
       "      <td>2023-01-31</td>\n",
       "      <td>Erik Thedéen Governor</td>\n",
       "      <td>Governor</td>\n",
       "      <td>[Erik Thedéen emphasised that significant vul...</td>\n",
       "      <td>3</td>\n",
       "    </tr>\n",
       "  </tbody>\n",
       "</table>\n",
       "</div>"
      ],
      "text/plain": [
       "       bank policy_rate_control             id       date  \\\n",
       "0  Riksbank            Riksbank  r23032023erlg 2023-03-23   \n",
       "1  Riksbank            Riksbank  r14032023erwt 2023-03-14   \n",
       "2  Riksbank            Riksbank  r14032023aiek 2023-03-14   \n",
       "3  Riksbank            Riksbank  r09032023aibz 2023-03-09   \n",
       "4  Riksbank            Riksbank  r31012023erds 2023-01-31   \n",
       "\n",
       "                      speaker    speaker_title  \\\n",
       "0       Erik Thedéen Governor         Governor   \n",
       "1       Erik Thedéen Governor         Governor   \n",
       "2  Aino Bunge Deputy Governor  Deputy Governor   \n",
       "3  Aino Bunge Deputy Governor  Deputy Governor   \n",
       "4       Erik Thedéen Governor         Governor   \n",
       "\n",
       "                                             article  article_len  \n",
       "0  [Mr Thedéen began his speech by commenting on...            8  \n",
       "1  [Governor Erik Thedéen began the hearing by s...            9  \n",
       "2  [Governor Erik Thedéen began the hearing by s...            9  \n",
       "3  [“It is a tough situation for many people when...            4  \n",
       "4  [Erik Thedéen emphasised that significant vul...            3  "
      ]
     },
     "execution_count": 6,
     "metadata": {},
     "output_type": "execute_result"
    }
   ],
   "source": [
    "# Helper function to get corpus dataset\n",
    "def get_corpus(data_dir, from_date=FROM_DATE, sep=\",\"):\n",
    "    data = pd.read_csv(data_dir, sep=sep)\n",
    "    data['date'] = pd.to_datetime(data['date'])\n",
    "    return data[data['date'] >= from_date]\n",
    "\n",
    "corpus_df = get_corpus(os.path.join(data_dir,'all_corpus.csv'))\n",
    "corpus_df['article'] = corpus_df['article'].str.split(\"\\n\")\n",
    "corpus_df['article_len'] = corpus_df['article'].str.len()\n",
    "\n",
    "print(\"df shape: \", corpus_df.shape)\n",
    "corpus_df.head()"
   ]
  },
  {
   "cell_type": "markdown",
   "id": "41d526cc",
   "metadata": {
    "papermill": {
     "duration": 0.009968,
     "end_time": "2023-05-06T16:32:21.192405",
     "exception": false,
     "start_time": "2023-05-06T16:32:21.182437",
     "status": "completed"
    },
    "tags": []
   },
   "source": [
    "### ECB"
   ]
  },
  {
   "cell_type": "code",
   "execution_count": 7,
   "id": "1101e39a",
   "metadata": {
    "execution": {
     "iopub.execute_input": "2023-05-06T16:32:21.214652Z",
     "iopub.status.busy": "2023-05-06T16:32:21.213104Z",
     "iopub.status.idle": "2023-05-06T16:32:23.805031Z",
     "shell.execute_reply": "2023-05-06T16:32:23.804028Z"
    },
    "papermill": {
     "duration": 2.60538,
     "end_time": "2023-05-06T16:32:23.807799",
     "exception": false,
     "start_time": "2023-05-06T16:32:21.202419",
     "status": "completed"
    },
    "tags": []
   },
   "outputs": [
    {
     "name": "stdout",
     "output_type": "stream",
     "text": [
      "df shape:  (2272, 7)\n",
      "Number of unique ids:  2272\n"
     ]
    },
    {
     "data": {
      "text/html": [
       "<div>\n",
       "<style scoped>\n",
       "    .dataframe tbody tr th:only-of-type {\n",
       "        vertical-align: middle;\n",
       "    }\n",
       "\n",
       "    .dataframe tbody tr th {\n",
       "        vertical-align: top;\n",
       "    }\n",
       "\n",
       "    .dataframe thead th {\n",
       "        text-align: right;\n",
       "    }\n",
       "</style>\n",
       "<table border=\"1\" class=\"dataframe\">\n",
       "  <thead>\n",
       "    <tr style=\"text-align: right;\">\n",
       "      <th></th>\n",
       "      <th>bank</th>\n",
       "      <th>policy_rate_control</th>\n",
       "      <th>id</th>\n",
       "      <th>date</th>\n",
       "      <th>speaker</th>\n",
       "      <th>speaker_title</th>\n",
       "      <th>article</th>\n",
       "    </tr>\n",
       "  </thead>\n",
       "  <tbody>\n",
       "    <tr>\n",
       "      <th>1</th>\n",
       "      <td>ECB</td>\n",
       "      <td>ECB</td>\n",
       "      <td>ecb03272023is33406.0</td>\n",
       "      <td>2023-03-27</td>\n",
       "      <td>Isabel Schnabel</td>\n",
       "      <td>Member of the Executive Board of the ECB</td>\n",
       "      <td>[, SPEECH, Back to normal? Balance sheet size ...</td>\n",
       "    </tr>\n",
       "    <tr>\n",
       "      <th>2</th>\n",
       "      <td>ECB</td>\n",
       "      <td>ECB</td>\n",
       "      <td>ecb03272023fr18839.0</td>\n",
       "      <td>2023-03-27</td>\n",
       "      <td>Frank Elderson</td>\n",
       "      <td>Member of the Executive Board of the ECB and ...</td>\n",
       "      <td>[, SPEECH, Urgent and vitally important: 2023 ...</td>\n",
       "    </tr>\n",
       "    <tr>\n",
       "      <th>5</th>\n",
       "      <td>ECB</td>\n",
       "      <td>ECB</td>\n",
       "      <td>ecb03222023fa37874.0</td>\n",
       "      <td>2023-03-22</td>\n",
       "      <td>Fabio Panetta</td>\n",
       "      <td>Member of the Executive Board of the ECB</td>\n",
       "      <td>[, SPEECH, Everything everywhere all at once: ...</td>\n",
       "    </tr>\n",
       "    <tr>\n",
       "      <th>7</th>\n",
       "      <td>ECB</td>\n",
       "      <td>ECB</td>\n",
       "      <td>ecb03222023ch19907.0</td>\n",
       "      <td>2023-03-22</td>\n",
       "      <td>Christine Lagarde</td>\n",
       "      <td>President of the ECB</td>\n",
       "      <td>[, SPEECH, The path ahead, Speech by Christine...</td>\n",
       "    </tr>\n",
       "    <tr>\n",
       "      <th>8</th>\n",
       "      <td>ECB</td>\n",
       "      <td>ECB</td>\n",
       "      <td>ecb03202023ch8577.0</td>\n",
       "      <td>2023-03-20</td>\n",
       "      <td>Christine Lagarde</td>\n",
       "      <td>President of the ECB</td>\n",
       "      <td>[, SPEECH, Hearing of the Committee on Economi...</td>\n",
       "    </tr>\n",
       "  </tbody>\n",
       "</table>\n",
       "</div>"
      ],
      "text/plain": [
       "  bank policy_rate_control                    id       date  \\\n",
       "1  ECB                 ECB  ecb03272023is33406.0 2023-03-27   \n",
       "2  ECB                 ECB  ecb03272023fr18839.0 2023-03-27   \n",
       "5  ECB                 ECB  ecb03222023fa37874.0 2023-03-22   \n",
       "7  ECB                 ECB  ecb03222023ch19907.0 2023-03-22   \n",
       "8  ECB                 ECB   ecb03202023ch8577.0 2023-03-20   \n",
       "\n",
       "             speaker                                      speaker_title  \\\n",
       "1    Isabel Schnabel           Member of the Executive Board of the ECB   \n",
       "2     Frank Elderson   Member of the Executive Board of the ECB and ...   \n",
       "5      Fabio Panetta           Member of the Executive Board of the ECB   \n",
       "7  Christine Lagarde                               President of the ECB   \n",
       "8  Christine Lagarde                               President of the ECB   \n",
       "\n",
       "                                             article  \n",
       "1  [, SPEECH, Back to normal? Balance sheet size ...  \n",
       "2  [, SPEECH, Urgent and vitally important: 2023 ...  \n",
       "5  [, SPEECH, Everything everywhere all at once: ...  \n",
       "7  [, SPEECH, The path ahead, Speech by Christine...  \n",
       "8  [, SPEECH, Hearing of the Committee on Economi...  "
      ]
     },
     "execution_count": 7,
     "metadata": {},
     "output_type": "execute_result"
    }
   ],
   "source": [
    "# Get speeches from file downloaded from ECB website\n",
    "ecb_corpus_df = get_corpus(os.path.join(data_dir,'all_ECB_speeches.csv'), sep=\"|\")\n",
    "ecb_corpus_df['speaker_title'] = ecb_corpus_df['subtitle'].str.split(',').str[1]\n",
    "ecb_corpus_df['article_len'] = ecb_corpus_df['contents'].str.len()\n",
    "ecb_corpus_df = ecb_corpus_df[ecb_corpus_df['article_len'] > 100]\n",
    "ecb_corpus_df['id'] = 'ecb' + ecb_corpus_df['date'].dt.strftime('%m%d%Y') + ecb_corpus_df['speakers'].str[:2].str.lower() + ecb_corpus_df['article_len'].astype(str)\n",
    "ecb_corpus_df['bank'] = \"ECB\"\n",
    "ecb_corpus_df['policy_rate_control'] = \"ECB\"\n",
    "ecb_corpus_df['article'] = ecb_corpus_df['contents'].apply(lambda s: re.split(r'\\s{2,}',s))\n",
    "ecb_corpus_df = ecb_corpus_df[['bank', 'policy_rate_control', 'id', 'date', 'speakers', 'speaker_title', 'article']]\n",
    "ecb_corpus_df.rename(columns={'speakers': 'speaker'}, inplace=True)\n",
    "\n",
    "print(\"df shape: \", ecb_corpus_df.shape)\n",
    "print(\"Number of unique ids: \", len(ecb_corpus_df['id'].unique()))\n",
    "ecb_corpus_df.head()"
   ]
  },
  {
   "cell_type": "markdown",
   "id": "8453582d",
   "metadata": {
    "papermill": {
     "duration": 0.016064,
     "end_time": "2023-05-06T16:32:23.840472",
     "exception": false,
     "start_time": "2023-05-06T16:32:23.824408",
     "status": "completed"
    },
    "tags": []
   },
   "source": [
    "### All speeches"
   ]
  },
  {
   "cell_type": "code",
   "execution_count": 8,
   "id": "747bbc9b",
   "metadata": {
    "execution": {
     "iopub.execute_input": "2023-05-06T16:32:23.873137Z",
     "iopub.status.busy": "2023-05-06T16:32:23.872752Z",
     "iopub.status.idle": "2023-05-06T16:32:23.891008Z",
     "shell.execute_reply": "2023-05-06T16:32:23.890098Z"
    },
    "papermill": {
     "duration": 0.037359,
     "end_time": "2023-05-06T16:32:23.893634",
     "exception": false,
     "start_time": "2023-05-06T16:32:23.856275",
     "status": "completed"
    },
    "tags": []
   },
   "outputs": [
    {
     "data": {
      "text/plain": [
       "(2797, 8)"
      ]
     },
     "execution_count": 8,
     "metadata": {},
     "output_type": "execute_result"
    }
   ],
   "source": [
    "# Join speech tables\n",
    "full_corpus_df = pd.concat([corpus_df, ecb_corpus_df])\n",
    "full_corpus_df = full_corpus_df[full_corpus_df['bank'].isin(CENTRAL_BANK)]\n",
    "full_corpus_df.shape"
   ]
  },
  {
   "cell_type": "code",
   "execution_count": 9,
   "id": "9b341ee0",
   "metadata": {
    "execution": {
     "iopub.execute_input": "2023-05-06T16:32:23.925752Z",
     "iopub.status.busy": "2023-05-06T16:32:23.925408Z",
     "iopub.status.idle": "2023-05-06T16:32:25.291799Z",
     "shell.execute_reply": "2023-05-06T16:32:25.290644Z"
    },
    "papermill": {
     "duration": 1.384781,
     "end_time": "2023-05-06T16:32:25.294053",
     "exception": false,
     "start_time": "2023-05-06T16:32:23.909272",
     "status": "completed"
    },
    "tags": []
   },
   "outputs": [
    {
     "name": "stdout",
     "output_type": "stream",
     "text": [
      "df shape:  (73419, 8)\n"
     ]
    },
    {
     "data": {
      "text/html": [
       "<div>\n",
       "<style scoped>\n",
       "    .dataframe tbody tr th:only-of-type {\n",
       "        vertical-align: middle;\n",
       "    }\n",
       "\n",
       "    .dataframe tbody tr th {\n",
       "        vertical-align: top;\n",
       "    }\n",
       "\n",
       "    .dataframe thead th {\n",
       "        text-align: right;\n",
       "    }\n",
       "</style>\n",
       "<table border=\"1\" class=\"dataframe\">\n",
       "  <thead>\n",
       "    <tr style=\"text-align: right;\">\n",
       "      <th></th>\n",
       "      <th>bank</th>\n",
       "      <th>policy_rate_control</th>\n",
       "      <th>id</th>\n",
       "      <th>date</th>\n",
       "      <th>speaker</th>\n",
       "      <th>speaker_title</th>\n",
       "      <th>article</th>\n",
       "      <th>article_len</th>\n",
       "    </tr>\n",
       "  </thead>\n",
       "  <tbody>\n",
       "    <tr>\n",
       "      <th>0</th>\n",
       "      <td>Riksbank</td>\n",
       "      <td>Riksbank</td>\n",
       "      <td>r23032023erlg</td>\n",
       "      <td>2023-03-23</td>\n",
       "      <td>Erik Thedéen Governor</td>\n",
       "      <td>Governor</td>\n",
       "      <td>Mr Thedéen began his speech by commenting on ...</td>\n",
       "      <td>37</td>\n",
       "    </tr>\n",
       "    <tr>\n",
       "      <th>0</th>\n",
       "      <td>Riksbank</td>\n",
       "      <td>Riksbank</td>\n",
       "      <td>r23032023erlg</td>\n",
       "      <td>2023-03-23</td>\n",
       "      <td>Erik Thedéen Governor</td>\n",
       "      <td>Governor</td>\n",
       "      <td>“Although the situation has become a little ca...</td>\n",
       "      <td>110</td>\n",
       "    </tr>\n",
       "    <tr>\n",
       "      <th>0</th>\n",
       "      <td>Riksbank</td>\n",
       "      <td>Riksbank</td>\n",
       "      <td>r23032023erlg</td>\n",
       "      <td>2023-03-23</td>\n",
       "      <td>Erik Thedéen Governor</td>\n",
       "      <td>Governor</td>\n",
       "      <td>He went on to note that the inflation figures ...</td>\n",
       "      <td>63</td>\n",
       "    </tr>\n",
       "    <tr>\n",
       "      <th>0</th>\n",
       "      <td>Riksbank</td>\n",
       "      <td>Riksbank</td>\n",
       "      <td>r23032023erlg</td>\n",
       "      <td>2023-03-23</td>\n",
       "      <td>Erik Thedéen Governor</td>\n",
       "      <td>Governor</td>\n",
       "      <td>“One important reason for this is the reforms ...</td>\n",
       "      <td>87</td>\n",
       "    </tr>\n",
       "    <tr>\n",
       "      <th>0</th>\n",
       "      <td>Riksbank</td>\n",
       "      <td>Riksbank</td>\n",
       "      <td>r23032023erlg</td>\n",
       "      <td>2023-03-23</td>\n",
       "      <td>Erik Thedéen Governor</td>\n",
       "      <td>Governor</td>\n",
       "      <td>Mr Thedéen then highlighted the danger of inf...</td>\n",
       "      <td>105</td>\n",
       "    </tr>\n",
       "  </tbody>\n",
       "</table>\n",
       "</div>"
      ],
      "text/plain": [
       "       bank policy_rate_control             id       date  \\\n",
       "0  Riksbank            Riksbank  r23032023erlg 2023-03-23   \n",
       "0  Riksbank            Riksbank  r23032023erlg 2023-03-23   \n",
       "0  Riksbank            Riksbank  r23032023erlg 2023-03-23   \n",
       "0  Riksbank            Riksbank  r23032023erlg 2023-03-23   \n",
       "0  Riksbank            Riksbank  r23032023erlg 2023-03-23   \n",
       "\n",
       "                 speaker speaker_title  \\\n",
       "0  Erik Thedéen Governor      Governor   \n",
       "0  Erik Thedéen Governor      Governor   \n",
       "0  Erik Thedéen Governor      Governor   \n",
       "0  Erik Thedéen Governor      Governor   \n",
       "0  Erik Thedéen Governor      Governor   \n",
       "\n",
       "                                             article  article_len  \n",
       "0  Mr Thedéen began his speech by commenting on ...           37  \n",
       "0  “Although the situation has become a little ca...          110  \n",
       "0  He went on to note that the inflation figures ...           63  \n",
       "0  “One important reason for this is the reforms ...           87  \n",
       "0  Mr Thedéen then highlighted the danger of inf...          105  "
      ]
     },
     "execution_count": 9,
     "metadata": {},
     "output_type": "execute_result"
    }
   ],
   "source": [
    "# Convert long article to smaller paragraph\n",
    "full_corpus_df = full_corpus_df.explode('article')\n",
    "full_corpus_df['article_len'] = full_corpus_df['article'].str.strip().str.split().apply(len)\n",
    "full_corpus_df = full_corpus_df[full_corpus_df['article_len'] > 10]\n",
    "\n",
    "print(\"df shape: \", full_corpus_df.shape)\n",
    "full_corpus_df.head()"
   ]
  },
  {
   "cell_type": "code",
   "execution_count": 10,
   "id": "d9aa3261",
   "metadata": {
    "execution": {
     "iopub.execute_input": "2023-05-06T16:32:25.319857Z",
     "iopub.status.busy": "2023-05-06T16:32:25.318036Z",
     "iopub.status.idle": "2023-05-06T16:32:25.954687Z",
     "shell.execute_reply": "2023-05-06T16:32:25.953574Z"
    },
    "papermill": {
     "duration": 0.652411,
     "end_time": "2023-05-06T16:32:25.957750",
     "exception": false,
     "start_time": "2023-05-06T16:32:25.305339",
     "status": "completed"
    },
    "tags": []
   },
   "outputs": [
    {
     "data": {
      "image/png": "[encoded data removed]",
      "text/plain": [
       "<Figure size 824.5x400 with 1 Axes>"
      ]
     },
     "metadata": {},
     "output_type": "display_data"
    }
   ],
   "source": [
    "# Article length distribution\n",
    "if EDA:\n",
    "    data = full_corpus_df.groupby([full_corpus_df['bank'], full_corpus_df['id']]).agg({'article_len': 'sum'}).reset_index()\n",
    "    data.rename(columns={\"bank\": \"Central Bank\"}, inplace=True)\n",
    "    sns.displot(data, x=\"article_len\", hue=\"Central Bank\", kind=\"kde\", height=4, aspect=7/4)\n",
    "    plt.xticks(rotation=90)\n",
    "    plt.xlabel(None)\n",
    "    plt.ylabel(None)\n",
    "    plt.xlim(0)\n",
    "    plt.show()"
   ]
  },
  {
   "cell_type": "code",
   "execution_count": 11,
   "id": "c8685be4",
   "metadata": {
    "execution": {
     "iopub.execute_input": "2023-05-06T16:32:25.984129Z",
     "iopub.status.busy": "2023-05-06T16:32:25.983626Z",
     "iopub.status.idle": "2023-05-06T16:32:27.148035Z",
     "shell.execute_reply": "2023-05-06T16:32:27.146981Z"
    },
    "papermill": {
     "duration": 1.179651,
     "end_time": "2023-05-06T16:32:27.150396",
     "exception": false,
     "start_time": "2023-05-06T16:32:25.970745",
     "status": "completed"
    },
    "tags": []
   },
   "outputs": [
    {
     "data": {
      "image/png": "[encoded data removed]",
      "text/plain": [
       "<Figure size 824.5x400 with 1 Axes>"
      ]
     },
     "metadata": {},
     "output_type": "display_data"
    }
   ],
   "source": [
    "# Paragraph length distribution\n",
    "if EDA:\n",
    "    data = full_corpus_df[['bank', 'article_len']].copy()\n",
    "    data.rename(columns={\"bank\": \"Central Bank\"}, inplace=True)\n",
    "    sns.displot(data, x=\"article_len\", hue=\"Central Bank\", kind=\"kde\", height=4, aspect=7/4)\n",
    "    plt.xticks(rotation=90)\n",
    "    plt.xlabel(None)\n",
    "    plt.ylabel(None)\n",
    "    plt.xlim(0)\n",
    "    plt.show()"
   ]
  },
  {
   "cell_type": "code",
   "execution_count": 12,
   "id": "25ce63c4",
   "metadata": {
    "execution": {
     "iopub.execute_input": "2023-05-06T16:32:27.176470Z",
     "iopub.status.busy": "2023-05-06T16:32:27.176147Z",
     "iopub.status.idle": "2023-05-06T16:32:27.697884Z",
     "shell.execute_reply": "2023-05-06T16:32:27.696739Z"
    },
    "papermill": {
     "duration": 0.536938,
     "end_time": "2023-05-06T16:32:27.700044",
     "exception": false,
     "start_time": "2023-05-06T16:32:27.163106",
     "status": "completed"
    },
    "tags": []
   },
   "outputs": [
    {
     "data": {
      "image/png": "[encoded data removed]",
      "text/plain": [
       "<Figure size 1000x400 with 1 Axes>"
      ]
     },
     "metadata": {},
     "output_type": "display_data"
    }
   ],
   "source": [
    "# Number of article per year\n",
    "if EDA:\n",
    "    data = full_corpus_df.groupby([full_corpus_df['bank'], full_corpus_df['date'].dt.to_period(\"Y\")]).agg({'id': 'nunique'}).reset_index()\n",
    "    sns.barplot(data, x='date', y='id', hue='bank')\n",
    "    plt.xticks(rotation=90)\n",
    "    plt.legend(title='Central Bank', loc='upper right')\n",
    "    plt.xlabel(None)\n",
    "    plt.ylabel(None)\n",
    "    plt.show()"
   ]
  },
  {
   "cell_type": "markdown",
   "id": "105186a1",
   "metadata": {
    "papermill": {
     "duration": 0.011892,
     "end_time": "2023-05-06T16:32:27.724461",
     "exception": false,
     "start_time": "2023-05-06T16:32:27.712569",
     "status": "completed"
    },
    "tags": []
   },
   "source": [
    "## Policy rate"
   ]
  },
  {
   "cell_type": "markdown",
   "id": "427347f6",
   "metadata": {
    "papermill": {
     "duration": 0.011918,
     "end_time": "2023-05-06T16:32:27.748506",
     "exception": false,
     "start_time": "2023-05-06T16:32:27.736588",
     "status": "completed"
    },
    "tags": []
   },
   "source": [
    "### Riks bank"
   ]
  },
  {
   "cell_type": "code",
   "execution_count": 13,
   "id": "ac5b050f",
   "metadata": {
    "execution": {
     "iopub.execute_input": "2023-05-06T16:32:27.775436Z",
     "iopub.status.busy": "2023-05-06T16:32:27.774315Z",
     "iopub.status.idle": "2023-05-06T16:32:27.881475Z",
     "shell.execute_reply": "2023-05-06T16:32:27.879366Z"
    },
    "papermill": {
     "duration": 0.123103,
     "end_time": "2023-05-06T16:32:27.883969",
     "exception": false,
     "start_time": "2023-05-06T16:32:27.760866",
     "status": "completed"
    },
    "tags": []
   },
   "outputs": [
    {
     "name": "stdout",
     "output_type": "stream",
     "text": [
      "df shape:  (7670, 9)\n"
     ]
    },
    {
     "data": {
      "text/html": [
       "<div>\n",
       "<style scoped>\n",
       "    .dataframe tbody tr th:only-of-type {\n",
       "        vertical-align: middle;\n",
       "    }\n",
       "\n",
       "    .dataframe tbody tr th {\n",
       "        vertical-align: top;\n",
       "    }\n",
       "\n",
       "    .dataframe thead th {\n",
       "        text-align: right;\n",
       "    }\n",
       "</style>\n",
       "<table border=\"1\" class=\"dataframe\">\n",
       "  <thead>\n",
       "    <tr style=\"text-align: right;\">\n",
       "      <th></th>\n",
       "      <th>date</th>\n",
       "      <th>policy_rate_control</th>\n",
       "      <th>policy_rate</th>\n",
       "      <th>predict_rate_change_90D</th>\n",
       "      <th>past_rate_change_90D</th>\n",
       "      <th>past_rate_change_180D</th>\n",
       "      <th>past_rate_change_90D_class</th>\n",
       "      <th>past_rate_change_180D_class</th>\n",
       "      <th>predict_rate_change_90D_class</th>\n",
       "    </tr>\n",
       "  </thead>\n",
       "  <tbody>\n",
       "    <tr>\n",
       "      <th>180</th>\n",
       "      <td>2002-09-29</td>\n",
       "      <td>Riksbank</td>\n",
       "      <td>4.25</td>\n",
       "      <td>-0.5</td>\n",
       "      <td>0.0</td>\n",
       "      <td>0.25</td>\n",
       "      <td>Same</td>\n",
       "      <td>Increase</td>\n",
       "      <td>Decrease</td>\n",
       "    </tr>\n",
       "    <tr>\n",
       "      <th>181</th>\n",
       "      <td>2002-09-30</td>\n",
       "      <td>Riksbank</td>\n",
       "      <td>4.25</td>\n",
       "      <td>-0.5</td>\n",
       "      <td>0.0</td>\n",
       "      <td>0.25</td>\n",
       "      <td>Same</td>\n",
       "      <td>Increase</td>\n",
       "      <td>Decrease</td>\n",
       "    </tr>\n",
       "    <tr>\n",
       "      <th>182</th>\n",
       "      <td>2002-10-01</td>\n",
       "      <td>Riksbank</td>\n",
       "      <td>4.25</td>\n",
       "      <td>-0.5</td>\n",
       "      <td>0.0</td>\n",
       "      <td>0.25</td>\n",
       "      <td>Same</td>\n",
       "      <td>Increase</td>\n",
       "      <td>Decrease</td>\n",
       "    </tr>\n",
       "    <tr>\n",
       "      <th>183</th>\n",
       "      <td>2002-10-02</td>\n",
       "      <td>Riksbank</td>\n",
       "      <td>4.25</td>\n",
       "      <td>-0.5</td>\n",
       "      <td>0.0</td>\n",
       "      <td>0.25</td>\n",
       "      <td>Same</td>\n",
       "      <td>Increase</td>\n",
       "      <td>Decrease</td>\n",
       "    </tr>\n",
       "    <tr>\n",
       "      <th>184</th>\n",
       "      <td>2002-10-03</td>\n",
       "      <td>Riksbank</td>\n",
       "      <td>4.25</td>\n",
       "      <td>-0.5</td>\n",
       "      <td>0.0</td>\n",
       "      <td>0.25</td>\n",
       "      <td>Same</td>\n",
       "      <td>Increase</td>\n",
       "      <td>Decrease</td>\n",
       "    </tr>\n",
       "  </tbody>\n",
       "</table>\n",
       "</div>"
      ],
      "text/plain": [
       "          date policy_rate_control  policy_rate  predict_rate_change_90D  \\\n",
       "180 2002-09-29            Riksbank         4.25                     -0.5   \n",
       "181 2002-09-30            Riksbank         4.25                     -0.5   \n",
       "182 2002-10-01            Riksbank         4.25                     -0.5   \n",
       "183 2002-10-02            Riksbank         4.25                     -0.5   \n",
       "184 2002-10-03            Riksbank         4.25                     -0.5   \n",
       "\n",
       "     past_rate_change_90D  past_rate_change_180D past_rate_change_90D_class  \\\n",
       "180                   0.0                   0.25                       Same   \n",
       "181                   0.0                   0.25                       Same   \n",
       "182                   0.0                   0.25                       Same   \n",
       "183                   0.0                   0.25                       Same   \n",
       "184                   0.0                   0.25                       Same   \n",
       "\n",
       "    past_rate_change_180D_class predict_rate_change_90D_class  \n",
       "180                    Increase                      Decrease  \n",
       "181                    Increase                      Decrease  \n",
       "182                    Increase                      Decrease  \n",
       "183                    Increase                      Decrease  \n",
       "184                    Increase                      Decrease  "
      ]
     },
     "execution_count": 13,
     "metadata": {},
     "output_type": "execute_result"
    }
   ],
   "source": [
    "# Helper function to get and process policy rate csv files\n",
    "def get_policy_rate(data_dir, skiprows=None,\n",
    "                    policy_rate_control = \"Riksbank\",\n",
    "                    date_col = \"Period\", format_date = \"%d/%m/%Y\",\n",
    "                    value_col = \"Value\", \n",
    "                    from_date=FROM_DATE, to_date=TO_DATE,\n",
    "                    convert_value_col=False,\n",
    "                    sep=\",\"):\n",
    "    data = pd.read_csv(data_dir, sep=sep, skiprows=skiprows)\n",
    "    data['policy_rate_control'] = policy_rate_control\n",
    "    data[date_col] = pd.to_datetime(data[date_col], format=format_date)\n",
    "    data = data[[\"policy_rate_control\", date_col, value_col]]\n",
    "    data.columns = [\"policy_rate_control\", \"date\", \"policy_rate\"]\n",
    "    data = data[data['date'] >= from_date]\n",
    "    \n",
    "    # Fill rate when data is not available\n",
    "    date_df = pd.DataFrame({'date': pd.date_range(start=from_date, end=to_date)})\n",
    "    data = date_df.merge(data, on='date', how='left')\n",
    "    data = data.fillna(method='ffill')\n",
    "    \n",
    "    # If rate format is not appropriate, fix the column\n",
    "    if convert_value_col:\n",
    "        data['policy_rate'] = data['policy_rate'].str.replace(\",\",\".\").astype(float)\n",
    "    \n",
    "    # Create past rate change and future rate change columns\n",
    "    data[PREDICT_PERIOD_VARIABLE] = data['policy_rate'].shift(-PREDICT_PERIOD) - data['policy_rate']\n",
    "    for i in range(len(PAST_PERIOD_VARIABLE)):\n",
    "        data[PAST_PERIOD_VARIABLE[i]] = data['policy_rate'] - data['policy_rate'].shift(PAST_PERIOD[i])\n",
    "    \n",
    "    for col in (PAST_PERIOD_VARIABLE + [PREDICT_PERIOD_VARIABLE]):\n",
    "        conditions  = [data[col] > 0, data[col] == 0, data[col] < 0]\n",
    "        choices     = ['Increase', 'Same', 'Decrease']\n",
    "        data[f'{col}_class'] = np.select(conditions, choices, default=np.nan)\n",
    "    return data\n",
    "\n",
    "riks_rate_df = get_policy_rate(\n",
    "    data_dir = os.path.join(data_dir,'riksbank_policy_rate.csv'),\n",
    "    convert_value_col = True,\n",
    "    sep=\";\"\n",
    ")\n",
    "\n",
    "print(\"df shape: \", riks_rate_df.shape)\n",
    "riks_rate_df.dropna().head()"
   ]
  },
  {
   "cell_type": "markdown",
   "id": "abef321c",
   "metadata": {
    "papermill": {
     "duration": 0.01209,
     "end_time": "2023-05-06T16:32:27.909485",
     "exception": false,
     "start_time": "2023-05-06T16:32:27.897395",
     "status": "completed"
    },
    "tags": []
   },
   "source": [
    "### ECB official interest rate"
   ]
  },
  {
   "cell_type": "code",
   "execution_count": 14,
   "id": "4a62fb2b",
   "metadata": {
    "execution": {
     "iopub.execute_input": "2023-05-06T16:32:27.936063Z",
     "iopub.status.busy": "2023-05-06T16:32:27.935154Z",
     "iopub.status.idle": "2023-05-06T16:32:27.997851Z",
     "shell.execute_reply": "2023-05-06T16:32:27.996639Z"
    },
    "papermill": {
     "duration": 0.078511,
     "end_time": "2023-05-06T16:32:28.000235",
     "exception": false,
     "start_time": "2023-05-06T16:32:27.921724",
     "status": "completed"
    },
    "tags": []
   },
   "outputs": [
    {
     "name": "stdout",
     "output_type": "stream",
     "text": [
      "(7670, 9)\n"
     ]
    },
    {
     "data": {
      "text/html": [
       "<div>\n",
       "<style scoped>\n",
       "    .dataframe tbody tr th:only-of-type {\n",
       "        vertical-align: middle;\n",
       "    }\n",
       "\n",
       "    .dataframe tbody tr th {\n",
       "        vertical-align: top;\n",
       "    }\n",
       "\n",
       "    .dataframe thead th {\n",
       "        text-align: right;\n",
       "    }\n",
       "</style>\n",
       "<table border=\"1\" class=\"dataframe\">\n",
       "  <thead>\n",
       "    <tr style=\"text-align: right;\">\n",
       "      <th></th>\n",
       "      <th>date</th>\n",
       "      <th>policy_rate_control</th>\n",
       "      <th>policy_rate</th>\n",
       "      <th>predict_rate_change_90D</th>\n",
       "      <th>past_rate_change_90D</th>\n",
       "      <th>past_rate_change_180D</th>\n",
       "      <th>past_rate_change_90D_class</th>\n",
       "      <th>past_rate_change_180D_class</th>\n",
       "      <th>predict_rate_change_90D_class</th>\n",
       "    </tr>\n",
       "  </thead>\n",
       "  <tbody>\n",
       "    <tr>\n",
       "      <th>180</th>\n",
       "      <td>2002-09-29</td>\n",
       "      <td>ECB</td>\n",
       "      <td>2.25</td>\n",
       "      <td>-0.5</td>\n",
       "      <td>0.0</td>\n",
       "      <td>0.0</td>\n",
       "      <td>Same</td>\n",
       "      <td>Same</td>\n",
       "      <td>Decrease</td>\n",
       "    </tr>\n",
       "    <tr>\n",
       "      <th>181</th>\n",
       "      <td>2002-09-30</td>\n",
       "      <td>ECB</td>\n",
       "      <td>2.25</td>\n",
       "      <td>-0.5</td>\n",
       "      <td>0.0</td>\n",
       "      <td>0.0</td>\n",
       "      <td>Same</td>\n",
       "      <td>Same</td>\n",
       "      <td>Decrease</td>\n",
       "    </tr>\n",
       "    <tr>\n",
       "      <th>182</th>\n",
       "      <td>2002-10-01</td>\n",
       "      <td>ECB</td>\n",
       "      <td>2.25</td>\n",
       "      <td>-0.5</td>\n",
       "      <td>0.0</td>\n",
       "      <td>0.0</td>\n",
       "      <td>Same</td>\n",
       "      <td>Same</td>\n",
       "      <td>Decrease</td>\n",
       "    </tr>\n",
       "    <tr>\n",
       "      <th>183</th>\n",
       "      <td>2002-10-02</td>\n",
       "      <td>ECB</td>\n",
       "      <td>2.25</td>\n",
       "      <td>-0.5</td>\n",
       "      <td>0.0</td>\n",
       "      <td>0.0</td>\n",
       "      <td>Same</td>\n",
       "      <td>Same</td>\n",
       "      <td>Decrease</td>\n",
       "    </tr>\n",
       "    <tr>\n",
       "      <th>184</th>\n",
       "      <td>2002-10-03</td>\n",
       "      <td>ECB</td>\n",
       "      <td>2.25</td>\n",
       "      <td>-0.5</td>\n",
       "      <td>0.0</td>\n",
       "      <td>0.0</td>\n",
       "      <td>Same</td>\n",
       "      <td>Same</td>\n",
       "      <td>Decrease</td>\n",
       "    </tr>\n",
       "  </tbody>\n",
       "</table>\n",
       "</div>"
      ],
      "text/plain": [
       "          date policy_rate_control  policy_rate  predict_rate_change_90D  \\\n",
       "180 2002-09-29                 ECB         2.25                     -0.5   \n",
       "181 2002-09-30                 ECB         2.25                     -0.5   \n",
       "182 2002-10-01                 ECB         2.25                     -0.5   \n",
       "183 2002-10-02                 ECB         2.25                     -0.5   \n",
       "184 2002-10-03                 ECB         2.25                     -0.5   \n",
       "\n",
       "     past_rate_change_90D  past_rate_change_180D past_rate_change_90D_class  \\\n",
       "180                   0.0                    0.0                       Same   \n",
       "181                   0.0                    0.0                       Same   \n",
       "182                   0.0                    0.0                       Same   \n",
       "183                   0.0                    0.0                       Same   \n",
       "184                   0.0                    0.0                       Same   \n",
       "\n",
       "    past_rate_change_180D_class predict_rate_change_90D_class  \n",
       "180                        Same                      Decrease  \n",
       "181                        Same                      Decrease  \n",
       "182                        Same                      Decrease  \n",
       "183                        Same                      Decrease  \n",
       "184                        Same                      Decrease  "
      ]
     },
     "execution_count": 14,
     "metadata": {},
     "output_type": "execute_result"
    }
   ],
   "source": [
    "# Get data for ECB\n",
    "ecb_rate_df = get_policy_rate(\n",
    "    data_dir = os.path.join(data_dir,'ecb_interest_rate.csv'),\n",
    "    skiprows = [0,1,3,4],\n",
    "    policy_rate_control = \"ECB\",\n",
    "    date_col = \"Unnamed: 0\", format_date = \"%Y-%m-%d\",\n",
    "    value_col = \"Daily, ECB Deposit facility - date of changes (raw data), Level\",\n",
    ")\n",
    "\n",
    "print(ecb_rate_df.shape)\n",
    "ecb_rate_df.dropna().head()"
   ]
  },
  {
   "cell_type": "markdown",
   "id": "c750b53d",
   "metadata": {
    "papermill": {
     "duration": 0.012202,
     "end_time": "2023-05-06T16:32:28.025851",
     "exception": false,
     "start_time": "2023-05-06T16:32:28.013649",
     "status": "completed"
    },
    "tags": []
   },
   "source": [
    "### All policy rate"
   ]
  },
  {
   "cell_type": "code",
   "execution_count": 15,
   "id": "be3d7667",
   "metadata": {
    "execution": {
     "iopub.execute_input": "2023-05-06T16:32:28.052014Z",
     "iopub.status.busy": "2023-05-06T16:32:28.051413Z",
     "iopub.status.idle": "2023-05-06T16:32:28.077412Z",
     "shell.execute_reply": "2023-05-06T16:32:28.076142Z"
    },
    "papermill": {
     "duration": 0.041661,
     "end_time": "2023-05-06T16:32:28.079741",
     "exception": false,
     "start_time": "2023-05-06T16:32:28.038080",
     "status": "completed"
    },
    "tags": []
   },
   "outputs": [
    {
     "name": "stdout",
     "output_type": "stream",
     "text": [
      "df shape:  (15340, 9)\n"
     ]
    },
    {
     "data": {
      "text/html": [
       "<div>\n",
       "<style scoped>\n",
       "    .dataframe tbody tr th:only-of-type {\n",
       "        vertical-align: middle;\n",
       "    }\n",
       "\n",
       "    .dataframe tbody tr th {\n",
       "        vertical-align: top;\n",
       "    }\n",
       "\n",
       "    .dataframe thead th {\n",
       "        text-align: right;\n",
       "    }\n",
       "</style>\n",
       "<table border=\"1\" class=\"dataframe\">\n",
       "  <thead>\n",
       "    <tr style=\"text-align: right;\">\n",
       "      <th></th>\n",
       "      <th>date</th>\n",
       "      <th>policy_rate_control</th>\n",
       "      <th>policy_rate</th>\n",
       "      <th>predict_rate_change_90D</th>\n",
       "      <th>past_rate_change_90D</th>\n",
       "      <th>past_rate_change_180D</th>\n",
       "      <th>past_rate_change_90D_class</th>\n",
       "      <th>past_rate_change_180D_class</th>\n",
       "      <th>predict_rate_change_90D_class</th>\n",
       "    </tr>\n",
       "  </thead>\n",
       "  <tbody>\n",
       "    <tr>\n",
       "      <th>180</th>\n",
       "      <td>2002-09-29</td>\n",
       "      <td>Riksbank</td>\n",
       "      <td>4.25</td>\n",
       "      <td>-0.5</td>\n",
       "      <td>0.0</td>\n",
       "      <td>0.25</td>\n",
       "      <td>Same</td>\n",
       "      <td>Increase</td>\n",
       "      <td>Decrease</td>\n",
       "    </tr>\n",
       "    <tr>\n",
       "      <th>181</th>\n",
       "      <td>2002-09-30</td>\n",
       "      <td>Riksbank</td>\n",
       "      <td>4.25</td>\n",
       "      <td>-0.5</td>\n",
       "      <td>0.0</td>\n",
       "      <td>0.25</td>\n",
       "      <td>Same</td>\n",
       "      <td>Increase</td>\n",
       "      <td>Decrease</td>\n",
       "    </tr>\n",
       "    <tr>\n",
       "      <th>182</th>\n",
       "      <td>2002-10-01</td>\n",
       "      <td>Riksbank</td>\n",
       "      <td>4.25</td>\n",
       "      <td>-0.5</td>\n",
       "      <td>0.0</td>\n",
       "      <td>0.25</td>\n",
       "      <td>Same</td>\n",
       "      <td>Increase</td>\n",
       "      <td>Decrease</td>\n",
       "    </tr>\n",
       "    <tr>\n",
       "      <th>183</th>\n",
       "      <td>2002-10-02</td>\n",
       "      <td>Riksbank</td>\n",
       "      <td>4.25</td>\n",
       "      <td>-0.5</td>\n",
       "      <td>0.0</td>\n",
       "      <td>0.25</td>\n",
       "      <td>Same</td>\n",
       "      <td>Increase</td>\n",
       "      <td>Decrease</td>\n",
       "    </tr>\n",
       "    <tr>\n",
       "      <th>184</th>\n",
       "      <td>2002-10-03</td>\n",
       "      <td>Riksbank</td>\n",
       "      <td>4.25</td>\n",
       "      <td>-0.5</td>\n",
       "      <td>0.0</td>\n",
       "      <td>0.25</td>\n",
       "      <td>Same</td>\n",
       "      <td>Increase</td>\n",
       "      <td>Decrease</td>\n",
       "    </tr>\n",
       "  </tbody>\n",
       "</table>\n",
       "</div>"
      ],
      "text/plain": [
       "          date policy_rate_control  policy_rate  predict_rate_change_90D  \\\n",
       "180 2002-09-29            Riksbank         4.25                     -0.5   \n",
       "181 2002-09-30            Riksbank         4.25                     -0.5   \n",
       "182 2002-10-01            Riksbank         4.25                     -0.5   \n",
       "183 2002-10-02            Riksbank         4.25                     -0.5   \n",
       "184 2002-10-03            Riksbank         4.25                     -0.5   \n",
       "\n",
       "     past_rate_change_90D  past_rate_change_180D past_rate_change_90D_class  \\\n",
       "180                   0.0                   0.25                       Same   \n",
       "181                   0.0                   0.25                       Same   \n",
       "182                   0.0                   0.25                       Same   \n",
       "183                   0.0                   0.25                       Same   \n",
       "184                   0.0                   0.25                       Same   \n",
       "\n",
       "    past_rate_change_180D_class predict_rate_change_90D_class  \n",
       "180                    Increase                      Decrease  \n",
       "181                    Increase                      Decrease  \n",
       "182                    Increase                      Decrease  \n",
       "183                    Increase                      Decrease  \n",
       "184                    Increase                      Decrease  "
      ]
     },
     "execution_count": 15,
     "metadata": {},
     "output_type": "execute_result"
    }
   ],
   "source": [
    "# Join all policy rate tables\n",
    "full_rate_df = pd.concat([riks_rate_df, ecb_rate_df])\n",
    "\n",
    "print(\"df shape: \", full_rate_df.shape)\n",
    "full_rate_df.dropna().head()"
   ]
  },
  {
   "cell_type": "code",
   "execution_count": 16,
   "id": "1dc02ae5",
   "metadata": {
    "execution": {
     "iopub.execute_input": "2023-05-06T16:32:28.106558Z",
     "iopub.status.busy": "2023-05-06T16:32:28.106275Z",
     "iopub.status.idle": "2023-05-06T16:32:28.142148Z",
     "shell.execute_reply": "2023-05-06T16:32:28.140930Z"
    },
    "papermill": {
     "duration": 0.052488,
     "end_time": "2023-05-06T16:32:28.144820",
     "exception": false,
     "start_time": "2023-05-06T16:32:28.092332",
     "status": "completed"
    },
    "tags": []
   },
   "outputs": [
    {
     "data": {
      "text/html": [
       "<div>\n",
       "<style scoped>\n",
       "    .dataframe tbody tr th:only-of-type {\n",
       "        vertical-align: middle;\n",
       "    }\n",
       "\n",
       "    .dataframe tbody tr th {\n",
       "        vertical-align: top;\n",
       "    }\n",
       "\n",
       "    .dataframe thead th {\n",
       "        text-align: right;\n",
       "    }\n",
       "</style>\n",
       "<table border=\"1\" class=\"dataframe\">\n",
       "  <thead>\n",
       "    <tr style=\"text-align: right;\">\n",
       "      <th></th>\n",
       "      <th>Central Bank</th>\n",
       "      <th>min</th>\n",
       "      <th>Q25</th>\n",
       "      <th>Q50</th>\n",
       "      <th>Q75</th>\n",
       "      <th>max</th>\n",
       "      <th>min date</th>\n",
       "      <th>max date</th>\n",
       "    </tr>\n",
       "  </thead>\n",
       "  <tbody>\n",
       "    <tr>\n",
       "      <th>0</th>\n",
       "      <td>ECB</td>\n",
       "      <td>-0.5</td>\n",
       "      <td>-0.4</td>\n",
       "      <td>0.25</td>\n",
       "      <td>1.0</td>\n",
       "      <td>3.25</td>\n",
       "      <td>2002-04-02</td>\n",
       "      <td>2023-04-01</td>\n",
       "    </tr>\n",
       "    <tr>\n",
       "      <th>1</th>\n",
       "      <td>Riksbank</td>\n",
       "      <td>-0.5</td>\n",
       "      <td>0.0</td>\n",
       "      <td>1.00</td>\n",
       "      <td>2.0</td>\n",
       "      <td>4.75</td>\n",
       "      <td>2002-04-02</td>\n",
       "      <td>2023-04-01</td>\n",
       "    </tr>\n",
       "  </tbody>\n",
       "</table>\n",
       "</div>"
      ],
      "text/plain": [
       "  Central Bank  min  Q25   Q50  Q75   max   min date   max date\n",
       "0          ECB -0.5 -0.4  0.25  1.0  3.25 2002-04-02 2023-04-01\n",
       "1     Riksbank -0.5  0.0  1.00  2.0  4.75 2002-04-02 2023-04-01"
      ]
     },
     "execution_count": 16,
     "metadata": {},
     "output_type": "execute_result"
    }
   ],
   "source": [
    "# Descriptive statistics for policy rate\n",
    "def quantile(n):\n",
    "    def quantile_(x):\n",
    "        return x.quantile(n/100)\n",
    "    quantile_.__name__ = f'{n}%'\n",
    "    return quantile_\n",
    "\n",
    "\n",
    "full_rate_describe_df = full_rate_df.groupby(\"policy_rate_control\").agg({'policy_rate': ['min', quantile(25), quantile(50), quantile(75), 'max'],\n",
    "                                                 'date': ['min', 'max']\n",
    "                                                })\n",
    "full_rate_describe_df.columns = ['min', 'Q25', 'Q50', 'Q75', 'max', 'min date', 'max date']\n",
    "full_rate_describe_df.index.name = 'Central Bank'\n",
    "full_rate_describe_df.reset_index(inplace=True)\n",
    "full_rate_describe_df.to_csv('/kaggle/working/eda_policy_rate_describe.csv', index=False)\n",
    "full_rate_describe_df"
   ]
  },
  {
   "cell_type": "code",
   "execution_count": 17,
   "id": "ec6d0b08",
   "metadata": {
    "execution": {
     "iopub.execute_input": "2023-05-06T16:32:28.173831Z",
     "iopub.status.busy": "2023-05-06T16:32:28.171992Z",
     "iopub.status.idle": "2023-05-06T16:32:28.584527Z",
     "shell.execute_reply": "2023-05-06T16:32:28.583538Z"
    },
    "papermill": {
     "duration": 0.428584,
     "end_time": "2023-05-06T16:32:28.586771",
     "exception": false,
     "start_time": "2023-05-06T16:32:28.158187",
     "status": "completed"
    },
    "tags": []
   },
   "outputs": [
    {
     "data": {
      "image/png": "[encoded data removed]",
      "text/plain": [
       "<Figure size 1000x400 with 1 Axes>"
      ]
     },
     "metadata": {},
     "output_type": "display_data"
    }
   ],
   "source": [
    "# Compare policy rate\n",
    "if EDA: \n",
    "    sns.lineplot(data=full_rate_df, x='date', y='policy_rate', hue='policy_rate_control')\n",
    "    plt.legend(title='Central Bank', loc='upper right')\n",
    "    plt.ylabel(\"Policy rate (%)\")\n",
    "    plt.xlabel(\"Date\")\n",
    "    plt.xticks(rotation=90)\n",
    "    plt.show()"
   ]
  },
  {
   "cell_type": "markdown",
   "id": "eef26c6d",
   "metadata": {
    "papermill": {
     "duration": 0.013702,
     "end_time": "2023-05-06T16:32:28.614589",
     "exception": false,
     "start_time": "2023-05-06T16:32:28.600887",
     "status": "completed"
    },
    "tags": []
   },
   "source": [
    "# Prepare dataset"
   ]
  },
  {
   "cell_type": "code",
   "execution_count": 18,
   "id": "f2489239",
   "metadata": {
    "execution": {
     "iopub.execute_input": "2023-05-06T16:32:28.643947Z",
     "iopub.status.busy": "2023-05-06T16:32:28.643099Z",
     "iopub.status.idle": "2023-05-06T16:32:28.777743Z",
     "shell.execute_reply": "2023-05-06T16:32:28.776130Z"
    },
    "papermill": {
     "duration": 0.152904,
     "end_time": "2023-05-06T16:32:28.781144",
     "exception": false,
     "start_time": "2023-05-06T16:32:28.628240",
     "status": "completed"
    },
    "tags": []
   },
   "outputs": [
    {
     "name": "stdout",
     "output_type": "stream",
     "text": [
      "df shape:  (71356, 16)\n"
     ]
    },
    {
     "data": {
      "text/html": [
       "<div>\n",
       "<style scoped>\n",
       "    .dataframe tbody tr th:only-of-type {\n",
       "        vertical-align: middle;\n",
       "    }\n",
       "\n",
       "    .dataframe tbody tr th {\n",
       "        vertical-align: top;\n",
       "    }\n",
       "\n",
       "    .dataframe thead th {\n",
       "        text-align: right;\n",
       "    }\n",
       "</style>\n",
       "<table border=\"1\" class=\"dataframe\">\n",
       "  <thead>\n",
       "    <tr style=\"text-align: right;\">\n",
       "      <th></th>\n",
       "      <th>bank</th>\n",
       "      <th>policy_rate_control</th>\n",
       "      <th>id</th>\n",
       "      <th>date</th>\n",
       "      <th>speaker</th>\n",
       "      <th>speaker_title</th>\n",
       "      <th>article</th>\n",
       "      <th>article_len</th>\n",
       "      <th>policy_rate</th>\n",
       "      <th>predict_rate_change_90D</th>\n",
       "      <th>past_rate_change_90D</th>\n",
       "      <th>past_rate_change_180D</th>\n",
       "      <th>past_rate_change_90D_class</th>\n",
       "      <th>past_rate_change_180D_class</th>\n",
       "      <th>predict_rate_change_90D_class</th>\n",
       "      <th>year</th>\n",
       "    </tr>\n",
       "  </thead>\n",
       "  <tbody>\n",
       "    <tr>\n",
       "      <th>36</th>\n",
       "      <td>Riksbank</td>\n",
       "      <td>Riksbank</td>\n",
       "      <td>r14122022mait</td>\n",
       "      <td>2022-12-14</td>\n",
       "      <td>Martin Flodén Deputy Governor</td>\n",
       "      <td>Deputy Governor</td>\n",
       "      <td>Mr Flodén noted that it is difficult, or perh...</td>\n",
       "      <td>53</td>\n",
       "      <td>2.5</td>\n",
       "      <td>0.5</td>\n",
       "      <td>1.75</td>\n",
       "      <td>2.25</td>\n",
       "      <td>Increase</td>\n",
       "      <td>Increase</td>\n",
       "      <td>Increase</td>\n",
       "      <td>2022</td>\n",
       "    </tr>\n",
       "    <tr>\n",
       "      <th>37</th>\n",
       "      <td>Riksbank</td>\n",
       "      <td>Riksbank</td>\n",
       "      <td>r14122022mait</td>\n",
       "      <td>2022-12-14</td>\n",
       "      <td>Martin Flodén Deputy Governor</td>\n",
       "      <td>Deputy Governor</td>\n",
       "      <td>The Riksbank’s purchases during the coronaviru...</td>\n",
       "      <td>87</td>\n",
       "      <td>2.5</td>\n",
       "      <td>0.5</td>\n",
       "      <td>1.75</td>\n",
       "      <td>2.25</td>\n",
       "      <td>Increase</td>\n",
       "      <td>Increase</td>\n",
       "      <td>Increase</td>\n",
       "      <td>2022</td>\n",
       "    </tr>\n",
       "    <tr>\n",
       "      <th>38</th>\n",
       "      <td>Riksbank</td>\n",
       "      <td>Riksbank</td>\n",
       "      <td>r14122022mait</td>\n",
       "      <td>2022-12-14</td>\n",
       "      <td>Martin Flodén Deputy Governor</td>\n",
       "      <td>Deputy Governor</td>\n",
       "      <td>Calculations indicate that the purchases of go...</td>\n",
       "      <td>122</td>\n",
       "      <td>2.5</td>\n",
       "      <td>0.5</td>\n",
       "      <td>1.75</td>\n",
       "      <td>2.25</td>\n",
       "      <td>Increase</td>\n",
       "      <td>Increase</td>\n",
       "      <td>Increase</td>\n",
       "      <td>2022</td>\n",
       "    </tr>\n",
       "    <tr>\n",
       "      <th>39</th>\n",
       "      <td>Riksbank</td>\n",
       "      <td>Riksbank</td>\n",
       "      <td>r09122022peor</td>\n",
       "      <td>2022-12-09</td>\n",
       "      <td>Per Jansson Deputy Governor</td>\n",
       "      <td>Deputy Governor</td>\n",
       "      <td>“A lot has changed in a year. Inflation has ri...</td>\n",
       "      <td>65</td>\n",
       "      <td>2.5</td>\n",
       "      <td>0.5</td>\n",
       "      <td>1.75</td>\n",
       "      <td>2.25</td>\n",
       "      <td>Increase</td>\n",
       "      <td>Increase</td>\n",
       "      <td>Increase</td>\n",
       "      <td>2022</td>\n",
       "    </tr>\n",
       "    <tr>\n",
       "      <th>40</th>\n",
       "      <td>Riksbank</td>\n",
       "      <td>Riksbank</td>\n",
       "      <td>r09122022peor</td>\n",
       "      <td>2022-12-09</td>\n",
       "      <td>Per Jansson Deputy Governor</td>\n",
       "      <td>Deputy Governor</td>\n",
       "      <td>Today inflation in Sweden is 9.3 per cent, hig...</td>\n",
       "      <td>43</td>\n",
       "      <td>2.5</td>\n",
       "      <td>0.5</td>\n",
       "      <td>1.75</td>\n",
       "      <td>2.25</td>\n",
       "      <td>Increase</td>\n",
       "      <td>Increase</td>\n",
       "      <td>Increase</td>\n",
       "      <td>2022</td>\n",
       "    </tr>\n",
       "  </tbody>\n",
       "</table>\n",
       "</div>"
      ],
      "text/plain": [
       "        bank policy_rate_control             id       date  \\\n",
       "36  Riksbank            Riksbank  r14122022mait 2022-12-14   \n",
       "37  Riksbank            Riksbank  r14122022mait 2022-12-14   \n",
       "38  Riksbank            Riksbank  r14122022mait 2022-12-14   \n",
       "39  Riksbank            Riksbank  r09122022peor 2022-12-09   \n",
       "40  Riksbank            Riksbank  r09122022peor 2022-12-09   \n",
       "\n",
       "                          speaker    speaker_title  \\\n",
       "36  Martin Flodén Deputy Governor  Deputy Governor   \n",
       "37  Martin Flodén Deputy Governor  Deputy Governor   \n",
       "38  Martin Flodén Deputy Governor  Deputy Governor   \n",
       "39    Per Jansson Deputy Governor  Deputy Governor   \n",
       "40    Per Jansson Deputy Governor  Deputy Governor   \n",
       "\n",
       "                                              article  article_len  \\\n",
       "36  Mr Flodén noted that it is difficult, or perh...           53   \n",
       "37  The Riksbank’s purchases during the coronaviru...           87   \n",
       "38  Calculations indicate that the purchases of go...          122   \n",
       "39  “A lot has changed in a year. Inflation has ri...           65   \n",
       "40  Today inflation in Sweden is 9.3 per cent, hig...           43   \n",
       "\n",
       "    policy_rate  predict_rate_change_90D  past_rate_change_90D  \\\n",
       "36          2.5                      0.5                  1.75   \n",
       "37          2.5                      0.5                  1.75   \n",
       "38          2.5                      0.5                  1.75   \n",
       "39          2.5                      0.5                  1.75   \n",
       "40          2.5                      0.5                  1.75   \n",
       "\n",
       "    past_rate_change_180D past_rate_change_90D_class  \\\n",
       "36                   2.25                   Increase   \n",
       "37                   2.25                   Increase   \n",
       "38                   2.25                   Increase   \n",
       "39                   2.25                   Increase   \n",
       "40                   2.25                   Increase   \n",
       "\n",
       "   past_rate_change_180D_class predict_rate_change_90D_class  year  \n",
       "36                    Increase                      Increase  2022  \n",
       "37                    Increase                      Increase  2022  \n",
       "38                    Increase                      Increase  2022  \n",
       "39                    Increase                      Increase  2022  \n",
       "40                    Increase                      Increase  2022  "
      ]
     },
     "execution_count": 18,
     "metadata": {},
     "output_type": "execute_result"
    }
   ],
   "source": [
    "# Combine speeches and policy rate tables\n",
    "full_df = full_corpus_df.merge(full_rate_df, on=['date','policy_rate_control'], how='left')\n",
    "full_df['year'] = full_df['date'].dt.year  \n",
    "full_df = full_df.dropna()\n",
    "\n",
    "print(\"df shape: \", full_df.shape)\n",
    "full_df.head()"
   ]
  },
  {
   "cell_type": "code",
   "execution_count": 19,
   "id": "7cd61c8d",
   "metadata": {
    "execution": {
     "iopub.execute_input": "2023-05-06T16:32:28.811200Z",
     "iopub.status.busy": "2023-05-06T16:32:28.810537Z",
     "iopub.status.idle": "2023-05-06T16:32:29.073180Z",
     "shell.execute_reply": "2023-05-06T16:32:29.072125Z"
    },
    "papermill": {
     "duration": 0.279905,
     "end_time": "2023-05-06T16:32:29.075449",
     "exception": false,
     "start_time": "2023-05-06T16:32:28.795544",
     "status": "completed"
    },
    "tags": []
   },
   "outputs": [
    {
     "data": {
      "image/png": "[encoded data removed]",
      "text/plain": [
       "<Figure size 1000x400 with 1 Axes>"
      ]
     },
     "metadata": {},
     "output_type": "display_data"
    }
   ],
   "source": [
    "# Distribution of policy rate change\n",
    "if EDA: \n",
    "    data = full_df.groupby([\"bank\",\"predict_rate_change_90D_class\"]).agg({'id':'nunique'}).reset_index()\n",
    "    sns.barplot(data, x='predict_rate_change_90D_class', y='id', hue='bank')\n",
    "    plt.legend(title='Central Bank')\n",
    "    plt.xlabel(None)\n",
    "    plt.ylabel(None)\n",
    "    plt.show()"
   ]
  },
  {
   "cell_type": "markdown",
   "id": "5fbe35a7",
   "metadata": {
    "papermill": {
     "duration": 0.01367,
     "end_time": "2023-05-06T16:32:29.103376",
     "exception": false,
     "start_time": "2023-05-06T16:32:29.089706",
     "status": "completed"
    },
    "tags": []
   },
   "source": [
    "# Model pipeline"
   ]
  },
  {
   "cell_type": "code",
   "execution_count": 20,
   "id": "bb69eec3",
   "metadata": {
    "execution": {
     "iopub.execute_input": "2023-05-06T16:32:29.133055Z",
     "iopub.status.busy": "2023-05-06T16:32:29.132198Z",
     "iopub.status.idle": "2023-05-06T16:32:29.139913Z",
     "shell.execute_reply": "2023-05-06T16:32:29.138981Z"
    },
    "papermill": {
     "duration": 0.024722,
     "end_time": "2023-05-06T16:32:29.142034",
     "exception": false,
     "start_time": "2023-05-06T16:32:29.117312",
     "status": "completed"
    },
    "tags": []
   },
   "outputs": [],
   "source": [
    "if DEBUG:\n",
    "    beg_year = 2008\n",
    "    train_ids = full_df[full_df['year'].between(beg_year, beg_year+TRAIN_WINDOW)].index.values\n",
    "    test_ids = full_df[full_df['bank'] == 'Riksbank'][full_df['year'].between(beg_year+TRAIN_WINDOW+1, beg_year+TRAIN_WINDOW+TEST_WINDOW)].index.values\n",
    "    \n",
    "    # Extract data\n",
    "    train_df, test_df = full_df.loc[train_ids], full_df.loc[test_ids]\n",
    "    \n",
    "    print(\"Train min year: \", np.min(train_df['year']))\n",
    "    print(\"Train max year: \", np.max(train_df['year']))\n",
    "    print(\"Test min year: \", np.min(test_df['year']))\n",
    "    print(\"Test max year: \", np.max(test_df['year']))\n",
    "    print(\"Train shape: \", train_df.shape)\n",
    "    print(\"Test shape: \", test_df.shape)"
   ]
  },
  {
   "cell_type": "markdown",
   "id": "06ff7f69",
   "metadata": {
    "papermill": {
     "duration": 0.013723,
     "end_time": "2023-05-06T16:32:29.169704",
     "exception": false,
     "start_time": "2023-05-06T16:32:29.155981",
     "status": "completed"
    },
    "tags": []
   },
   "source": [
    "## Filter bank"
   ]
  },
  {
   "cell_type": "code",
   "execution_count": 21,
   "id": "f92899ef",
   "metadata": {
    "execution": {
     "iopub.execute_input": "2023-05-06T16:32:29.199459Z",
     "iopub.status.busy": "2023-05-06T16:32:29.198577Z",
     "iopub.status.idle": "2023-05-06T16:32:29.203523Z",
     "shell.execute_reply": "2023-05-06T16:32:29.202568Z"
    },
    "papermill": {
     "duration": 0.022009,
     "end_time": "2023-05-06T16:32:29.205595",
     "exception": false,
     "start_time": "2023-05-06T16:32:29.183586",
     "status": "completed"
    },
    "tags": []
   },
   "outputs": [],
   "source": [
    "def filter_bank(dataset, banks=['Riksbank']):\n",
    "    result = dataset[dataset['bank'].isin(banks)]\n",
    "    return result"
   ]
  },
  {
   "cell_type": "markdown",
   "id": "e38b6a22",
   "metadata": {
    "papermill": {
     "duration": 0.013745,
     "end_time": "2023-05-06T16:32:29.232967",
     "exception": false,
     "start_time": "2023-05-06T16:32:29.219222",
     "status": "completed"
    },
    "tags": []
   },
   "source": [
    "## LDA"
   ]
  },
  {
   "cell_type": "code",
   "execution_count": 22,
   "id": "23792b55",
   "metadata": {
    "execution": {
     "iopub.execute_input": "2023-05-06T16:32:29.263093Z",
     "iopub.status.busy": "2023-05-06T16:32:29.262147Z",
     "iopub.status.idle": "2023-05-06T16:32:41.248674Z",
     "shell.execute_reply": "2023-05-06T16:32:41.247494Z"
    },
    "papermill": {
     "duration": 12.004302,
     "end_time": "2023-05-06T16:32:41.251601",
     "exception": false,
     "start_time": "2023-05-06T16:32:29.247299",
     "status": "completed"
    },
    "tags": []
   },
   "outputs": [],
   "source": [
    "import gensim\n",
    "from pprint import pprint\n",
    "from nltk.corpus import stopwords\n",
    "stop_words = stopwords.words('english')\n",
    "import spacy\n",
    "nlp = spacy.load('en_core_web_sm', disable=['parser', 'ner'])\n",
    "from operator import itemgetter\n",
    "\n",
    "# Helper functions\n",
    "# Simple preprocess\n",
    "def preprocess(article):\n",
    "    result = gensim.utils.simple_preprocess(article, deacc=True) # lowercase, deaccent\n",
    "    result = [w for w in result if w not in stop_words] # remove stop words\n",
    "    result = [w.lemma_ for w in nlp(\" \".join(result))] # lemmatize\n",
    "    return result"
   ]
  },
  {
   "cell_type": "code",
   "execution_count": 23,
   "id": "9951a972",
   "metadata": {
    "execution": {
     "iopub.execute_input": "2023-05-06T16:32:41.284339Z",
     "iopub.status.busy": "2023-05-06T16:32:41.284000Z",
     "iopub.status.idle": "2023-05-06T16:32:41.300111Z",
     "shell.execute_reply": "2023-05-06T16:32:41.299011Z"
    },
    "papermill": {
     "duration": 0.034333,
     "end_time": "2023-05-06T16:32:41.302349",
     "exception": false,
     "start_time": "2023-05-06T16:32:41.268016",
     "status": "completed"
    },
    "tags": []
   },
   "outputs": [],
   "source": [
    "# remake\n",
    "def train_lda(train_df, filter_topic=True):\n",
    "    # data for training model\n",
    "    articles = train_df['article'].tolist()\n",
    "    articles = [preprocess(s) for s in articles]\n",
    "    id2word = gensim.corpora.Dictionary(articles)\n",
    "    corpus = [id2word.doc2bow(s) for s in articles]\n",
    "    \n",
    "    # fit LDA model\n",
    "    lda_model = gensim.models.ldamodel.LdaModel(corpus=corpus,\n",
    "                                                id2word=id2word,\n",
    "                                                num_topics=N_TOPICS, \n",
    "                                                random_state=100,\n",
    "                                                update_every=1,\n",
    "                                                chunksize=100,\n",
    "                                                passes=10,\n",
    "                                                alpha='auto',\n",
    "                                                per_word_topics=True)\n",
    "    \n",
    "    # Filter topics\n",
    "    topic_dict = {}\n",
    "    topic_list = lda_model.show_topics(num_topics=N_TOPICS, num_words=15,formatted=False)\n",
    "    for i in range(len(topic_list)):\n",
    "        temp_dict = {}\n",
    "        for (key, value) in topic_list[i][1]:\n",
    "            temp_dict[key] = value\n",
    "        if not filter_topic: \n",
    "            topic_dict[i] = temp_dict\n",
    "        else:\n",
    "            if (set(temp_dict.keys()) & set(TOPIC_KEYWORD)):\n",
    "                topic_dict[i] = temp_dict\n",
    "    \n",
    "    train_df['topic'] = [max(lda_model.get_document_topics(c), key=itemgetter(1))[0] for c in corpus]\n",
    "    train_df = train_df[train_df['topic'].isin(topic_dict.keys())]\n",
    "    \n",
    "    return train_df, lda_model, topic_dict, id2word, corpus\n",
    "\n",
    "def pred_lda(test_df, id2word, lda_model, topic_dict):\n",
    "    # Helper function\n",
    "    def get_topic(article):\n",
    "        s = preprocess(article)\n",
    "        corp = id2word.doc2bow(s)\n",
    "        return max(lda_model.get_document_topics(corp), key=itemgetter(1))[0]\n",
    "    \n",
    "    test_df['topic'] = test_df['article'].apply(lambda s: get_topic(s))\n",
    "    test_df = test_df[test_df['topic'].isin(topic_dict.keys())]\n",
    "    \n",
    "    return test_df\n",
    "    \n",
    "\n",
    "if DEBUG and TOPIC_FILTER:\n",
    "    train_df, lda_model, topic_dict, id2word, corpus = train_lda(train_df)\n",
    "    test_df = pred_lda(test_df, id2word, lda_model, topic_dict)\n",
    "    \n",
    "    print(\"Train shape: \", train_df.shape)\n",
    "    print(\"Test shape: \", test_df.shape)\n",
    "    print(\"Train topic: \", train_df.groupby('topic').id.count())\n",
    "    print(\"Test topic: \", test_df.groupby('topic').id.count())\n",
    "    pprint(topic_dict)"
   ]
  },
  {
   "cell_type": "code",
   "execution_count": 24,
   "id": "e63bd445",
   "metadata": {
    "execution": {
     "iopub.execute_input": "2023-05-06T16:32:41.337322Z",
     "iopub.status.busy": "2023-05-06T16:32:41.336467Z",
     "iopub.status.idle": "2023-05-06T16:32:43.507953Z",
     "shell.execute_reply": "2023-05-06T16:32:43.506931Z"
    },
    "papermill": {
     "duration": 2.191951,
     "end_time": "2023-05-06T16:32:43.510779",
     "exception": false,
     "start_time": "2023-05-06T16:32:41.318828",
     "status": "completed"
    },
    "tags": []
   },
   "outputs": [
    {
     "name": "stdout",
     "output_type": "stream",
     "text": [
      "[(0,\n",
      "  '0.044*\"central\" + 0.038*\"bank\" + 0.037*\"european\" + 0.016*\"would\" + '\n",
      "  '0.014*\"use\" + 0.013*\"state\" + 0.013*\"payment\" + 0.013*\"new\" + '\n",
      "  '0.013*\"currency\" + 0.012*\"objective\"'),\n",
      " (1,\n",
      "  '0.050*\"de\" + 0.033*\"la\" + 0.018*\"view\" + 0.015*\"que\" + 0.015*\"en\" + '\n",
      "  '0.013*\"relate\" + 0.012*\"el\" + 0.009*\"although\" + 0.009*\"del\" + '\n",
      "  '0.009*\"conduct\"'),\n",
      " (2,\n",
      "  '0.053*\"monetary\" + 0.048*\"policy\" + 0.041*\"price\" + 0.032*\"economic\" + '\n",
      "  '0.031*\"growth\" + 0.029*\"rate\" + 0.028*\"inflation\" + 0.025*\"term\" + '\n",
      "  '0.013*\"interest\" + 0.013*\"long\"'),\n",
      " (3,\n",
      "  '0.054*\"der\" + 0.053*\"die\" + 0.032*\"und\" + 0.014*\"zu\" + 0.014*\"den\" + '\n",
      "  '0.013*\"fur\" + 0.012*\"eine\" + 0.012*\"auf\" + 0.012*\"von\" + 0.011*\"des\"'),\n",
      " (4,\n",
      "  '0.029*\"stability\" + 0.028*\"financial\" + 0.016*\"ecb\" + 0.014*\"system\" + '\n",
      "  '0.014*\"integration\" + 0.012*\"policy\" + 0.012*\"eu\" + 0.010*\"role\" + '\n",
      "  '0.010*\"member\" + 0.010*\"need\"'),\n",
      " (5,\n",
      "  '0.045*\"euro\" + 0.030*\"market\" + 0.029*\"area\" + 0.021*\"country\" + '\n",
      "  '0.008*\"exchange\" + 0.008*\"process\" + 0.008*\"financial\" + 0.008*\"may\" + '\n",
      "  '0.007*\"also\" + 0.007*\"currency\"')]\n"
     ]
    },
    {
     "data": {
      "image/png": "[encoded data removed]",
      "text/plain": [
       "<Figure size 1000x400 with 6 Axes>"
      ]
     },
     "metadata": {},
     "output_type": "display_data"
    }
   ],
   "source": [
    "if EDA and TOPIC_FILTER:\n",
    "    # Load model\n",
    "    if os.path.exists(LOAD_LDA_FROM):\n",
    "        id2word = pickle.load(open('/kaggle/input/cbc-lda/id2word.lda', 'rb'))\n",
    "        corpus = pickle.load(open('/kaggle/input/cbc-lda/corpus.lda', 'rb'))\n",
    "        lda_model = pickle.load(open('/kaggle/input/cbc-lda/lda_model.lda', 'rb'))\n",
    "        topic_dict = pickle.load(open('/kaggle/input/cbc-lda/topic_dict.lda', 'rb'))\n",
    "    else:\n",
    "        train_df, lda_model, topic_dict, id2word, corpus = train_lda(full_df, filter_topic=False)\n",
    "        pickle.dump(corpus, open('/kaggle/working/corpus.lda', 'wb'))\n",
    "        pickle.dump(id2word, open('/kaggle/working/id2word.lda', 'wb'))\n",
    "        pickle.dump(lda_model, open('/kaggle/working/lda_model.lda', 'wb'))\n",
    "        pickle.dump(topic_dict, open('/kaggle/working/topic_dict.lda', 'wb'))\n",
    "    \n",
    "    pprint(lda_model.print_topics())\n",
    "    \n",
    "    # Word cloud\n",
    "    from wordcloud import WordCloud\n",
    "\n",
    "    plt.figure()\n",
    "    j = int(np.ceil(N_TOPICS/2))\n",
    "    for t in range(N_TOPICS):\n",
    "        i=t+1\n",
    "        wordcloud = WordCloud(max_font_size=50, max_words=10, background_color=\"white\")\n",
    "        wordcloud.generate_from_frequencies(frequencies=topic_dict[t])\n",
    "        plt.subplot(j, j, i).set_title(\"Topic #\" + str(t))\n",
    "        plt.plot()\n",
    "        plt.imshow(wordcloud, interpolation=\"bilinear\")\n",
    "        plt.axis(\"off\")\n",
    "    plt.tight_layout()\n",
    "    plt.show()    "
   ]
  },
  {
   "cell_type": "markdown",
   "id": "66ad657a",
   "metadata": {
    "papermill": {
     "duration": 0.01535,
     "end_time": "2023-05-06T16:32:43.541687",
     "exception": false,
     "start_time": "2023-05-06T16:32:43.526337",
     "status": "completed"
    },
    "tags": []
   },
   "source": [
    "## Undersampling"
   ]
  },
  {
   "cell_type": "code",
   "execution_count": 25,
   "id": "bd44e8d9",
   "metadata": {
    "execution": {
     "iopub.execute_input": "2023-05-06T16:32:43.575504Z",
     "iopub.status.busy": "2023-05-06T16:32:43.574566Z",
     "iopub.status.idle": "2023-05-06T16:32:43.583855Z",
     "shell.execute_reply": "2023-05-06T16:32:43.582881Z"
    },
    "papermill": {
     "duration": 0.028255,
     "end_time": "2023-05-06T16:32:43.586072",
     "exception": false,
     "start_time": "2023-05-06T16:32:43.557817",
     "status": "completed"
    },
    "tags": []
   },
   "outputs": [],
   "source": [
    "# remake\n",
    "def undersample(train_df, imbalanced_bank = ['ECB']):\n",
    "    # Implement undersampling to make the train dataset more balanced\n",
    "    increase_df = train_df[train_df['bank'].isin(imbalanced_bank)][train_df[f'{PREDICT_PERIOD_VARIABLE}_class'] == \"Increase\"]\n",
    "    decrease_df = train_df[train_df['bank'].isin(imbalanced_bank)][train_df[f'{PREDICT_PERIOD_VARIABLE}_class'] == \"Decrease\"]\n",
    "    same_df = train_df[train_df['bank'].isin(imbalanced_bank)][train_df[f'{PREDICT_PERIOD_VARIABLE}_class'] == \"Same\"]\n",
    "    res_df = train_df[~train_df['bank'].isin(imbalanced_bank)]\n",
    "    \n",
    "    max_size = max(increase_df.shape[0], decrease_df.shape[0])\n",
    "    same_df = same_df.sample(int(max_size))\n",
    "    \n",
    "    return shuffle(pd.concat([res_df, increase_df, decrease_df, same_df]))\n",
    "\n",
    "if DEBUG:\n",
    "    train_df= undersample(train_df, ['ECB'])\n",
    "    print(\"Train shape: \", train_df.shape)\n",
    "    print(train_df.groupby(f'{PREDICT_PERIOD_VARIABLE}_class').id.count())\n",
    "\n",
    "    # Check if train_df is balanced\n",
    "    data = train_df.groupby(f'{PREDICT_PERIOD_VARIABLE}_class').agg({'id': 'count'}).reset_index()\n",
    "    sns.barplot(data, x=f'{PREDICT_PERIOD_VARIABLE}_class', y='id')\n",
    "    plt.show()"
   ]
  },
  {
   "cell_type": "markdown",
   "id": "1b805189",
   "metadata": {
    "papermill": {
     "duration": 0.014942,
     "end_time": "2023-05-06T16:32:43.615856",
     "exception": false,
     "start_time": "2023-05-06T16:32:43.600914",
     "status": "completed"
    },
    "tags": []
   },
   "source": [
    "## Neural network"
   ]
  },
  {
   "cell_type": "code",
   "execution_count": 26,
   "id": "e7ff8d9c",
   "metadata": {
    "execution": {
     "iopub.execute_input": "2023-05-06T16:32:43.647206Z",
     "iopub.status.busy": "2023-05-06T16:32:43.646880Z",
     "iopub.status.idle": "2023-05-06T16:32:59.430727Z",
     "shell.execute_reply": "2023-05-06T16:32:59.429685Z"
    },
    "papermill": {
     "duration": 15.802516,
     "end_time": "2023-05-06T16:32:59.433245",
     "exception": false,
     "start_time": "2023-05-06T16:32:43.630729",
     "status": "completed"
    },
    "tags": []
   },
   "outputs": [
    {
     "data": {
      "application/vnd.jupyter.widget-view+json": {
       "model_id": "896e438f0f0a49eeb9cae2e34943c62a",
       "version_major": 2,
       "version_minor": 0
      },
      "text/plain": [
       "Downloading (…)okenizer_config.json:   0%|          | 0.00/52.0 [00:00<?, ?B/s]"
      ]
     },
     "metadata": {},
     "output_type": "display_data"
    },
    {
     "data": {
      "application/vnd.jupyter.widget-view+json": {
       "model_id": "fd0bf1b674ff4297952572bd7cb2c3bd",
       "version_major": 2,
       "version_minor": 0
      },
      "text/plain": [
       "Downloading (…)lve/main/config.json:   0%|          | 0.00/579 [00:00<?, ?B/s]"
      ]
     },
     "metadata": {},
     "output_type": "display_data"
    },
    {
     "name": "stderr",
     "output_type": "stream",
     "text": [
      "loading configuration file config.json from cache at /root/.cache/huggingface/hub/models--microsoft--deberta-v3-base/snapshots/8ccc9b6f36199bec6961081d44eb72fb3f7353f3/config.json\n",
      "Model config DebertaV2Config {\n",
      "  \"_name_or_path\": \"microsoft/deberta-v3-base\",\n",
      "  \"attention_probs_dropout_prob\": 0.1,\n",
      "  \"hidden_act\": \"gelu\",\n",
      "  \"hidden_dropout_prob\": 0.1,\n",
      "  \"hidden_size\": 768,\n",
      "  \"initializer_range\": 0.02,\n",
      "  \"intermediate_size\": 3072,\n",
      "  \"layer_norm_eps\": 1e-07,\n",
      "  \"max_position_embeddings\": 512,\n",
      "  \"max_relative_positions\": -1,\n",
      "  \"model_type\": \"deberta-v2\",\n",
      "  \"norm_rel_ebd\": \"layer_norm\",\n",
      "  \"num_attention_heads\": 12,\n",
      "  \"num_hidden_layers\": 12,\n",
      "  \"pad_token_id\": 0,\n",
      "  \"pooler_dropout\": 0,\n",
      "  \"pooler_hidden_act\": \"gelu\",\n",
      "  \"pooler_hidden_size\": 768,\n",
      "  \"pos_att_type\": [\n",
      "    \"p2c\",\n",
      "    \"c2p\"\n",
      "  ],\n",
      "  \"position_biased_input\": false,\n",
      "  \"position_buckets\": 256,\n",
      "  \"relative_attention\": true,\n",
      "  \"share_att_key\": true,\n",
      "  \"transformers_version\": \"4.27.3\",\n",
      "  \"type_vocab_size\": 0,\n",
      "  \"vocab_size\": 128100\n",
      "}\n",
      "\n"
     ]
    },
    {
     "data": {
      "application/vnd.jupyter.widget-view+json": {
       "model_id": "31266f5430b245e7ba063896174659de",
       "version_major": 2,
       "version_minor": 0
      },
      "text/plain": [
       "Downloading spm.model:   0%|          | 0.00/2.46M [00:00<?, ?B/s]"
      ]
     },
     "metadata": {},
     "output_type": "display_data"
    },
    {
     "name": "stderr",
     "output_type": "stream",
     "text": [
      "loading file spm.model from cache at /root/.cache/huggingface/hub/models--microsoft--deberta-v3-base/snapshots/8ccc9b6f36199bec6961081d44eb72fb3f7353f3/spm.model\n",
      "loading file tokenizer.json from cache at None\n",
      "loading file added_tokens.json from cache at None\n",
      "loading file special_tokens_map.json from cache at None\n",
      "loading file tokenizer_config.json from cache at /root/.cache/huggingface/hub/models--microsoft--deberta-v3-base/snapshots/8ccc9b6f36199bec6961081d44eb72fb3f7353f3/tokenizer_config.json\n",
      "loading configuration file config.json from cache at /root/.cache/huggingface/hub/models--microsoft--deberta-v3-base/snapshots/8ccc9b6f36199bec6961081d44eb72fb3f7353f3/config.json\n",
      "Model config DebertaV2Config {\n",
      "  \"_name_or_path\": \"microsoft/deberta-v3-base\",\n",
      "  \"attention_probs_dropout_prob\": 0.1,\n",
      "  \"hidden_act\": \"gelu\",\n",
      "  \"hidden_dropout_prob\": 0.1,\n",
      "  \"hidden_size\": 768,\n",
      "  \"initializer_range\": 0.02,\n",
      "  \"intermediate_size\": 3072,\n",
      "  \"layer_norm_eps\": 1e-07,\n",
      "  \"max_position_embeddings\": 512,\n",
      "  \"max_relative_positions\": -1,\n",
      "  \"model_type\": \"deberta-v2\",\n",
      "  \"norm_rel_ebd\": \"layer_norm\",\n",
      "  \"num_attention_heads\": 12,\n",
      "  \"num_hidden_layers\": 12,\n",
      "  \"pad_token_id\": 0,\n",
      "  \"pooler_dropout\": 0,\n",
      "  \"pooler_hidden_act\": \"gelu\",\n",
      "  \"pooler_hidden_size\": 768,\n",
      "  \"pos_att_type\": [\n",
      "    \"p2c\",\n",
      "    \"c2p\"\n",
      "  ],\n",
      "  \"position_biased_input\": false,\n",
      "  \"position_buckets\": 256,\n",
      "  \"relative_attention\": true,\n",
      "  \"share_att_key\": true,\n",
      "  \"transformers_version\": \"4.27.3\",\n",
      "  \"type_vocab_size\": 0,\n",
      "  \"vocab_size\": 128100\n",
      "}\n",
      "\n",
      "Adding [MASK] to the vocabulary\n",
      "Special tokens have been added in the vocabulary, make sure the associated word embeddings are fine-tuned or trained.\n",
      "loading configuration file config.json from cache at /root/.cache/huggingface/hub/models--microsoft--deberta-v3-base/snapshots/8ccc9b6f36199bec6961081d44eb72fb3f7353f3/config.json\n",
      "Model config DebertaV2Config {\n",
      "  \"_name_or_path\": \"microsoft/deberta-v3-base\",\n",
      "  \"attention_probs_dropout_prob\": 0.1,\n",
      "  \"hidden_act\": \"gelu\",\n",
      "  \"hidden_dropout_prob\": 0.1,\n",
      "  \"hidden_size\": 768,\n",
      "  \"initializer_range\": 0.02,\n",
      "  \"intermediate_size\": 3072,\n",
      "  \"layer_norm_eps\": 1e-07,\n",
      "  \"max_position_embeddings\": 512,\n",
      "  \"max_relative_positions\": -1,\n",
      "  \"model_type\": \"deberta-v2\",\n",
      "  \"norm_rel_ebd\": \"layer_norm\",\n",
      "  \"num_attention_heads\": 12,\n",
      "  \"num_hidden_layers\": 12,\n",
      "  \"pad_token_id\": 0,\n",
      "  \"pooler_dropout\": 0,\n",
      "  \"pooler_hidden_act\": \"gelu\",\n",
      "  \"pooler_hidden_size\": 768,\n",
      "  \"pos_att_type\": [\n",
      "    \"p2c\",\n",
      "    \"c2p\"\n",
      "  ],\n",
      "  \"position_biased_input\": false,\n",
      "  \"position_buckets\": 256,\n",
      "  \"relative_attention\": true,\n",
      "  \"share_att_key\": true,\n",
      "  \"transformers_version\": \"4.27.3\",\n",
      "  \"type_vocab_size\": 0,\n",
      "  \"vocab_size\": 128100\n",
      "}\n",
      "\n",
      "/opt/conda/lib/python3.7/site-packages/transformers/convert_slow_tokenizer.py:447: UserWarning: The sentencepiece tokenizer that you are converting to a fast tokenizer uses the byte fallback option which is not implemented in the fast tokenizers. In practice this means that the fast version of the tokenizer can produce unknown tokens whereas the sentencepiece version would have converted these unknown tokens into a sequence of byte tokens matching the original piece of text.\n",
      "  \"The sentencepiece tokenizer that you are converting to a fast tokenizer uses the byte fallback option\"\n",
      "Special tokens have been added in the vocabulary, make sure the associated word embeddings are fine-tuned or trained.\n",
      "loading configuration file config.json from cache at /root/.cache/huggingface/hub/models--microsoft--deberta-v3-base/snapshots/8ccc9b6f36199bec6961081d44eb72fb3f7353f3/config.json\n",
      "Model config DebertaV2Config {\n",
      "  \"_name_or_path\": \"microsoft/deberta-v3-base\",\n",
      "  \"attention_probs_dropout_prob\": 0.1,\n",
      "  \"hidden_act\": \"gelu\",\n",
      "  \"hidden_dropout_prob\": 0.1,\n",
      "  \"hidden_size\": 768,\n",
      "  \"initializer_range\": 0.02,\n",
      "  \"intermediate_size\": 3072,\n",
      "  \"layer_norm_eps\": 1e-07,\n",
      "  \"max_position_embeddings\": 512,\n",
      "  \"max_relative_positions\": -1,\n",
      "  \"model_type\": \"deberta-v2\",\n",
      "  \"norm_rel_ebd\": \"layer_norm\",\n",
      "  \"num_attention_heads\": 12,\n",
      "  \"num_hidden_layers\": 12,\n",
      "  \"output_hidden_states\": true,\n",
      "  \"pad_token_id\": 0,\n",
      "  \"pooler_dropout\": 0,\n",
      "  \"pooler_hidden_act\": \"gelu\",\n",
      "  \"pooler_hidden_size\": 768,\n",
      "  \"pos_att_type\": [\n",
      "    \"p2c\",\n",
      "    \"c2p\"\n",
      "  ],\n",
      "  \"position_biased_input\": false,\n",
      "  \"position_buckets\": 256,\n",
      "  \"relative_attention\": true,\n",
      "  \"share_att_key\": true,\n",
      "  \"transformers_version\": \"4.27.3\",\n",
      "  \"type_vocab_size\": 0,\n",
      "  \"vocab_size\": 128100\n",
      "}\n",
      "\n"
     ]
    },
    {
     "data": {
      "application/vnd.jupyter.widget-view+json": {
       "model_id": "fff461be73ff4ce9b1a636aaefc350e0",
       "version_major": 2,
       "version_minor": 0
      },
      "text/plain": [
       "Downloading tf_model.h5:   0%|          | 0.00/736M [00:00<?, ?B/s]"
      ]
     },
     "metadata": {},
     "output_type": "display_data"
    },
    {
     "name": "stderr",
     "output_type": "stream",
     "text": [
      "loading weights file tf_model.h5 from cache at /root/.cache/huggingface/hub/models--microsoft--deberta-v3-base/snapshots/8ccc9b6f36199bec6961081d44eb72fb3f7353f3/tf_model.h5\n",
      "All model checkpoint layers were used when initializing TFDebertaV2Model.\n",
      "\n",
      "All the layers of TFDebertaV2Model were initialized from the model checkpoint at microsoft/deberta-v3-base.\n",
      "If your task is similar to the task the model of the checkpoint was trained on, you can already use TFDebertaV2Model for predictions without further training.\n"
     ]
    }
   ],
   "source": [
    "# Check if we already have trained parameters\n",
    "with strategy.scope():\n",
    "    if os.path.exists(LOAD_MODEL_FROM):\n",
    "        tokenizer = AutoTokenizer.from_pretrained(f'{LOAD_MODEL_FROM}')\n",
    "        config = AutoConfig.from_pretrained(f'{LOAD_MODEL_FROM}/config.json')\n",
    "        backbone = TFAutoModel.from_pretrained(f'{LOAD_MODEL_FROM}/tf_model.h5')\n",
    "    else:\n",
    "        tokenizer = AutoTokenizer.from_pretrained(PRETRAINED_MODEL)\n",
    "        config = AutoConfig.from_pretrained(PRETRAINED_MODEL, output_hidden_states=True)\n",
    "        backbone = TFAutoModel.from_pretrained(PRETRAINED_MODEL, config=config)\n",
    "\n",
    "def get_token(df):\n",
    "    nrows = df.shape[0]\n",
    "    input_ids = np.zeros((nrows, MAX_LEN), dtype='int32')\n",
    "    attention_mask = np.zeros((nrows, MAX_LEN), dtype='int32')\n",
    "    \n",
    "    for i in range(nrows):\n",
    "        txt = df.iloc[i]['article']\n",
    "        tokens = tokenizer.encode_plus(txt, max_length=MAX_LEN, padding='max_length', truncation=True)\n",
    "        input_ids[i,] = tokens['input_ids']\n",
    "        attention_mask[i,] = tokens['attention_mask']\n",
    "    return input_ids, attention_mask"
   ]
  },
  {
   "cell_type": "code",
   "execution_count": 27,
   "id": "9e5bdb8a",
   "metadata": {
    "execution": {
     "iopub.execute_input": "2023-05-06T16:32:59.471675Z",
     "iopub.status.busy": "2023-05-06T16:32:59.470611Z",
     "iopub.status.idle": "2023-05-06T16:32:59.481839Z",
     "shell.execute_reply": "2023-05-06T16:32:59.480803Z"
    },
    "papermill": {
     "duration": 0.032613,
     "end_time": "2023-05-06T16:32:59.484249",
     "exception": false,
     "start_time": "2023-05-06T16:32:59.451636",
     "status": "completed"
    },
    "tags": []
   },
   "outputs": [],
   "source": [
    "def build_nn():\n",
    "    # Speech feature\n",
    "    ## Get embeddings from pretrained model\n",
    "    tokens = tf.keras.layers.Input(shape=(MAX_LEN,), name='tokens', dtype=tf.int32)\n",
    "    attention = tf.keras.layers.Input(shape=(MAX_LEN,), name='attention', dtype=tf.int32)\n",
    "    \n",
    "    ## Get the last hidden state from pretrained model\n",
    "    outputs = backbone(tokens, attention_mask=attention)\n",
    "    hidden_state = outputs[1][-1]\n",
    "    \n",
    "    ## Calculate mean embeddings from the last hidden state\n",
    "    input_mask_expanded = tf.broadcast_to(tf.expand_dims(attention, -1), tf.shape(hidden_state))\n",
    "    input_mask_expanded = tf.cast(input_mask_expanded, tf.float32)\n",
    "    sum_embeddings = tf.reduce_sum(hidden_state * input_mask_expanded, axis=1)\n",
    "    sum_mask = tf.reduce_sum(input_mask_expanded, axis=1)\n",
    "    sum_mask = tf.clip_by_value(sum_mask, clip_value_min=1e-9, clip_value_max=tf.float32.max)\n",
    "    mean_embeddings = sum_embeddings / sum_mask\n",
    "    speech_feature = tf.keras.layers.Dense(4, activation='relu', dtype='float32', \n",
    "                                    kernel_initializer=tf.keras.initializers.Orthogonal(seed=42))(mean_embeddings)\n",
    "    \n",
    "    # Other features\n",
    "    rate_change_input = tf.keras.layers.Input(shape=len(PAST_PERIOD_VARIABLE), name='past rate change', dtype=tf.float32)\n",
    "    \n",
    "    # Combine input\n",
    "    all_feature = tf.concat([speech_feature, rate_change_input], axis=1)\n",
    "    \n",
    "    # Final layer with softmax activation\n",
    "    logits = tf.keras.layers.Dense(len(CLASS), activation='softmax', dtype='float32', \n",
    "                                    kernel_initializer=tf.keras.initializers.Orthogonal(seed=42))(all_feature)\n",
    "    \n",
    "    # Compile model\n",
    "    model = tf.keras.Model(inputs=[tokens, attention, rate_change_input], outputs = logits)\n",
    "    model.compile(\n",
    "        optimizer = 'adam',\n",
    "        loss = \"sparse_categorical_crossentropy\",\n",
    "        metrics = ['accuracy']\n",
    "    )\n",
    "    return model"
   ]
  },
  {
   "cell_type": "code",
   "execution_count": 28,
   "id": "2d6166b4",
   "metadata": {
    "execution": {
     "iopub.execute_input": "2023-05-06T16:32:59.520818Z",
     "iopub.status.busy": "2023-05-06T16:32:59.520449Z",
     "iopub.status.idle": "2023-05-06T16:32:59.526537Z",
     "shell.execute_reply": "2023-05-06T16:32:59.525348Z"
    },
    "papermill": {
     "duration": 0.027071,
     "end_time": "2023-05-06T16:32:59.529016",
     "exception": false,
     "start_time": "2023-05-06T16:32:59.501945",
     "status": "completed"
    },
    "tags": []
   },
   "outputs": [],
   "source": [
    "if DEBUG:\n",
    "    config = AutoConfig.from_pretrained(PRETRAINED_MODEL, output_hidden_states=True)\n",
    "    backbone = TFAutoModel.from_pretrained(PRETRAINED_MODEL, config=config)\n",
    "    outputs = backbone(train_input_ids[0:2,], attention_mask=train_attention_mask[0:2,], output_hidden_states=True)\n",
    "    hidden_state = outputs[0]\n",
    "\n",
    "    print(tf.shape(hidden_state))\n",
    "    print(tf.shape(train_attention_mask[0:2,]))"
   ]
  },
  {
   "cell_type": "code",
   "execution_count": 29,
   "id": "87587963",
   "metadata": {
    "execution": {
     "iopub.execute_input": "2023-05-06T16:32:59.565855Z",
     "iopub.status.busy": "2023-05-06T16:32:59.565443Z",
     "iopub.status.idle": "2023-05-06T16:32:59.573222Z",
     "shell.execute_reply": "2023-05-06T16:32:59.572015Z"
    },
    "papermill": {
     "duration": 0.029213,
     "end_time": "2023-05-06T16:32:59.575524",
     "exception": false,
     "start_time": "2023-05-06T16:32:59.546311",
     "status": "completed"
    },
    "tags": []
   },
   "outputs": [],
   "source": [
    "def train_nn(train_df, epochs=2, batch_zise=32, VERBOSE=0):\n",
    "    # Text feature\n",
    "    train_input_ids, train_attention_mask = get_token(train_df)\n",
    "    \n",
    "    # Other features\n",
    "    train_past_rate_change = train_df[PAST_PERIOD_VARIABLE]\n",
    "    \n",
    "    # Target\n",
    "    enc = LabelEncoder()\n",
    "    enc.fit(train_df[f'{PREDICT_PERIOD_VARIABLE}_class'])\n",
    "    train_target = enc.transform(train_df[f'{PREDICT_PERIOD_VARIABLE}_class'])\n",
    "    \n",
    "    # Fit model\n",
    "    with strategy.scope():\n",
    "        model = build_nn()\n",
    "        model.fit(\n",
    "            x = [train_input_ids, train_attention_mask, train_past_rate_change],\n",
    "            y = train_target,\n",
    "            epochs = epochs,\n",
    "            batch_size = batch_zise,\n",
    "            verbose = VERBOSE\n",
    "    )\n",
    "    \n",
    "    return model, enc\n",
    "\n",
    "if DEBUG:\n",
    "    train_nn(train_df, VERBOSE=1)"
   ]
  },
  {
   "cell_type": "markdown",
   "id": "f154eaa8",
   "metadata": {
    "papermill": {
     "duration": 0.017316,
     "end_time": "2023-05-06T16:32:59.610768",
     "exception": false,
     "start_time": "2023-05-06T16:32:59.593452",
     "status": "completed"
    },
    "tags": []
   },
   "source": [
    "## Confusion matrix"
   ]
  },
  {
   "cell_type": "code",
   "execution_count": 30,
   "id": "38a828ff",
   "metadata": {
    "execution": {
     "iopub.execute_input": "2023-05-06T16:32:59.647856Z",
     "iopub.status.busy": "2023-05-06T16:32:59.646868Z",
     "iopub.status.idle": "2023-05-06T16:32:59.654349Z",
     "shell.execute_reply": "2023-05-06T16:32:59.653317Z"
    },
    "papermill": {
     "duration": 0.028422,
     "end_time": "2023-05-06T16:32:59.656544",
     "exception": false,
     "start_time": "2023-05-06T16:32:59.628122",
     "status": "completed"
    },
    "tags": []
   },
   "outputs": [],
   "source": [
    "def cf_matrix_func(test_df, enc, batch_zise=32):\n",
    "    test_input_ids, test_attention_mask = get_token(test_df)\n",
    "    test_past_rate_change = test_df[PAST_PERIOD_VARIABLE]\n",
    "    test_target = enc.transform(test_df[f'{PREDICT_PERIOD_VARIABLE}_class'])\n",
    "    \n",
    "    preds = model.predict([test_input_ids, test_attention_mask, test_past_rate_change], batch_size=batch_zise, verbose=0)\n",
    "    preds = np.argmax(preds, axis=1)\n",
    "    \n",
    "    # Confusion matrix\n",
    "    cf_matrix = confusion_matrix(enc.inverse_transform(test_target), \n",
    "                                 enc.inverse_transform(preds),\n",
    "                                 labels=enc.classes_.tolist()\n",
    "                                )\n",
    "    print(enc.classes_.tolist())\n",
    "    return cf_matrix, preds"
   ]
  },
  {
   "cell_type": "markdown",
   "id": "a16c1937",
   "metadata": {
    "papermill": {
     "duration": 0.017084,
     "end_time": "2023-05-06T16:32:59.690439",
     "exception": false,
     "start_time": "2023-05-06T16:32:59.673355",
     "status": "completed"
    },
    "tags": []
   },
   "source": [
    "## Evaluate model performance"
   ]
  },
  {
   "cell_type": "code",
   "execution_count": 31,
   "id": "d8e60197",
   "metadata": {
    "execution": {
     "iopub.execute_input": "2023-05-06T16:32:59.726516Z",
     "iopub.status.busy": "2023-05-06T16:32:59.726180Z",
     "iopub.status.idle": "2023-05-06T17:23:22.115340Z",
     "shell.execute_reply": "2023-05-06T17:23:22.114028Z"
    },
    "papermill": {
     "duration": 3022.564562,
     "end_time": "2023-05-06T17:23:22.272369",
     "exception": false,
     "start_time": "2023-05-06T16:32:59.707807",
     "status": "completed"
    },
    "tags": []
   },
   "outputs": [
    {
     "name": "stdout",
     "output_type": "stream",
     "text": [
      "Iteration:  1\n"
     ]
    },
    {
     "name": "stderr",
     "output_type": "stream",
     "text": [
      "/opt/conda/lib/python3.7/site-packages/ipykernel_launcher.py:14: UserWarning: Boolean Series key will be reindexed to match DataFrame index.\n",
      "  \n",
      "/opt/conda/lib/python3.7/site-packages/ipykernel_launcher.py:4: UserWarning: Boolean Series key will be reindexed to match DataFrame index.\n",
      "  after removing the cwd from sys.path.\n",
      "/opt/conda/lib/python3.7/site-packages/ipykernel_launcher.py:5: UserWarning: Boolean Series key will be reindexed to match DataFrame index.\n",
      "  \"\"\"\n",
      "/opt/conda/lib/python3.7/site-packages/ipykernel_launcher.py:6: UserWarning: Boolean Series key will be reindexed to match DataFrame index.\n",
      "  \n"
     ]
    },
    {
     "name": "stdout",
     "output_type": "stream",
     "text": [
      "Epoch 1/2\n",
      "666/666 [==============================] - 562s 650ms/step - loss: 1.0213 - accuracy: 0.4392\n",
      "Epoch 2/2\n",
      "666/666 [==============================] - 395s 594ms/step - loss: 0.9357 - accuracy: 0.5587\n",
      "['Decrease', 'Increase', 'Same']\n",
      "Time:  28.0\n",
      "Accuracy:  0.7838709677419354\n",
      "Iteration:  2\n"
     ]
    },
    {
     "name": "stderr",
     "output_type": "stream",
     "text": [
      "/opt/conda/lib/python3.7/site-packages/ipykernel_launcher.py:14: UserWarning: Boolean Series key will be reindexed to match DataFrame index.\n",
      "  \n",
      "/opt/conda/lib/python3.7/site-packages/ipykernel_launcher.py:4: UserWarning: Boolean Series key will be reindexed to match DataFrame index.\n",
      "  after removing the cwd from sys.path.\n",
      "/opt/conda/lib/python3.7/site-packages/ipykernel_launcher.py:5: UserWarning: Boolean Series key will be reindexed to match DataFrame index.\n",
      "  \"\"\"\n",
      "/opt/conda/lib/python3.7/site-packages/ipykernel_launcher.py:6: UserWarning: Boolean Series key will be reindexed to match DataFrame index.\n",
      "  \n"
     ]
    },
    {
     "name": "stdout",
     "output_type": "stream",
     "text": [
      "Epoch 1/2\n",
      "567/567 [==============================] - 489s 638ms/step - loss: 1.0264 - accuracy: 0.4522\n",
      "Epoch 2/2\n",
      "567/567 [==============================] - 338s 596ms/step - loss: 0.9417 - accuracy: 0.5535\n",
      "['Decrease', 'Increase', 'Same']\n",
      "Time:  26.0\n",
      "Accuracy:  0.6113744075829384\n"
     ]
    }
   ],
   "source": [
    "min_year = np.min(full_df['year'])\n",
    "cf_matrix_list = []\n",
    "preds = []\n",
    "\n",
    "count = 0\n",
    "for beg_year in range(min_year, LAST_TRAIN_YEAR, TEST_WINDOW):\n",
    "    print(\"Iteration: \", count + 1)\n",
    "    \n",
    "    start_time = time.process_time()\n",
    "    \n",
    "    data = filter_bank(full_df, TRAIN_BANKS)\n",
    "    \n",
    "    train_ids = data[data['year'].between(beg_year, beg_year+TRAIN_WINDOW)].index.values\n",
    "    test_ids = data[data['bank'] == 'Riksbank'][data['year'].between(beg_year+TRAIN_WINDOW+1, beg_year+TRAIN_WINDOW+TEST_WINDOW)].index.values\n",
    "    \n",
    "    # Extract data\n",
    "    train_df, test_df = data.loc[train_ids], data.loc[test_ids]\n",
    "    \n",
    "    # Topic modeling\n",
    "    if TOPIC_FILTER:\n",
    "        train_df, lda_model, topic_dict, id2word, corpus = train_lda(train_df)\n",
    "        test_df = pred_lda(test_df, id2word, lda_model, topic_dict)\n",
    "    \n",
    "    # Undersampling\n",
    "    if UNDERSAMPLING:\n",
    "        train_df = undersample(train_df, ['ECB'])\n",
    "    \n",
    "    # Train model\n",
    "    model, enc = train_nn(train_df, VERBOSE=1)\n",
    "    \n",
    "    # confusion matrix\n",
    "    cf_matrix, pred = cf_matrix_func(test_df, enc)\n",
    "    cf_matrix_list.append(cf_matrix)\n",
    "    preds.append(pred)\n",
    "    \n",
    "    end_time = time.process_time()\n",
    "    \n",
    "    print(\"Time: \", np.round((end_time-start_time)/60))\n",
    "    print(\"Accuracy: \", np.trace(cf_matrix)/np.sum(cf_matrix))\n",
    "    \n",
    "    count += 1"
   ]
  },
  {
   "cell_type": "code",
   "execution_count": 32,
   "id": "e13bab8a",
   "metadata": {
    "execution": {
     "iopub.execute_input": "2023-05-06T17:23:22.570546Z",
     "iopub.status.busy": "2023-05-06T17:23:22.570168Z",
     "iopub.status.idle": "2023-05-06T17:23:22.853925Z",
     "shell.execute_reply": "2023-05-06T17:23:22.852860Z"
    },
    "papermill": {
     "duration": 0.437003,
     "end_time": "2023-05-06T17:23:22.856928",
     "exception": false,
     "start_time": "2023-05-06T17:23:22.419925",
     "status": "completed"
    },
    "tags": []
   },
   "outputs": [
    {
     "data": {
      "image/png": "[encoded data removed]",
      "text/plain": [
       "<Figure size 1000x400 with 2 Axes>"
      ]
     },
     "metadata": {},
     "output_type": "display_data"
    }
   ],
   "source": [
    "final_cf_matrix = np.zeros((len(CLASS),len(CLASS)))\n",
    "for arr in cf_matrix_list:\n",
    "    final_cf_matrix += arr\n",
    "sns.heatmap(final_cf_matrix / final_cf_matrix.sum(axis=1)[:,None], \n",
    "            cmap='Blues',\n",
    "            annot=True\n",
    "           )\n",
    "plt.show()"
   ]
  },
  {
   "cell_type": "code",
   "execution_count": 33,
   "id": "e0ad72a1",
   "metadata": {
    "execution": {
     "iopub.execute_input": "2023-05-06T17:23:23.206908Z",
     "iopub.status.busy": "2023-05-06T17:23:23.205977Z",
     "iopub.status.idle": "2023-05-06T17:23:23.215795Z",
     "shell.execute_reply": "2023-05-06T17:23:23.214435Z"
    },
    "papermill": {
     "duration": 0.212025,
     "end_time": "2023-05-06T17:23:23.218374",
     "exception": false,
     "start_time": "2023-05-06T17:23:23.006349",
     "status": "completed"
    },
    "tags": []
   },
   "outputs": [
    {
     "name": "stdout",
     "output_type": "stream",
     "text": [
      "0.7140115163147792\n"
     ]
    },
    {
     "data": {
      "text/plain": [
       "array([[ 26.,   0.,  59.],\n",
       "       [  0.,  44.,  38.],\n",
       "       [  0.,  52., 302.]])"
      ]
     },
     "execution_count": 33,
     "metadata": {},
     "output_type": "execute_result"
    }
   ],
   "source": [
    "print(np.trace(final_cf_matrix)/np.sum(final_cf_matrix))\n",
    "final_cf_matrix"
   ]
  },
  {
   "cell_type": "code",
   "execution_count": 34,
   "id": "1edfabc6",
   "metadata": {
    "execution": {
     "iopub.execute_input": "2023-05-06T17:23:23.522477Z",
     "iopub.status.busy": "2023-05-06T17:23:23.521560Z",
     "iopub.status.idle": "2023-05-06T17:23:23.529195Z",
     "shell.execute_reply": "2023-05-06T17:23:23.528037Z"
    },
    "papermill": {
     "duration": 0.159261,
     "end_time": "2023-05-06T17:23:23.531890",
     "exception": false,
     "start_time": "2023-05-06T17:23:23.372629",
     "status": "completed"
    },
    "tags": []
   },
   "outputs": [
    {
     "data": {
      "text/plain": [
       "[array([[ 26,   0,  59],\n",
       "        [  0,   0,   8],\n",
       "        [  0,   0, 217]]),\n",
       " array([[ 0,  0,  0],\n",
       "        [ 0, 44, 30],\n",
       "        [ 0, 52, 85]])]"
      ]
     },
     "execution_count": 34,
     "metadata": {},
     "output_type": "execute_result"
    }
   ],
   "source": [
    "cf_matrix_list"
   ]
  },
  {
   "cell_type": "code",
   "execution_count": 35,
   "id": "4d2b73ea",
   "metadata": {
    "execution": {
     "iopub.execute_input": "2023-05-06T17:23:23.837203Z",
     "iopub.status.busy": "2023-05-06T17:23:23.836609Z",
     "iopub.status.idle": "2023-05-06T17:23:23.844702Z",
     "shell.execute_reply": "2023-05-06T17:23:23.843584Z"
    },
    "papermill": {
     "duration": 0.161148,
     "end_time": "2023-05-06T17:23:23.846977",
     "exception": false,
     "start_time": "2023-05-06T17:23:23.685829",
     "status": "completed"
    },
    "tags": []
   },
   "outputs": [
    {
     "data": {
      "text/plain": [
       "array([[ 26.,  96., 399.]])"
      ]
     },
     "execution_count": 35,
     "metadata": {},
     "output_type": "execute_result"
    }
   ],
   "source": [
    "final_cf_matrix.sum(axis=0)[None,:]"
   ]
  }
 ],
 "metadata": {
  "kernelspec": {
   "display_name": "Python 3",
   "language": "python",
   "name": "python3"
  },
  "language_info": {
   "codemirror_mode": {
    "name": "ipython",
    "version": 3
   },
   "file_extension": ".py",
   "mimetype": "text/x-python",
   "name": "python",
   "nbconvert_exporter": "python",
   "pygments_lexer": "ipython3",
   "version": "3.7.12"
  },
  "papermill": {
   "default_parameters": {},
   "duration": 3185.01907,
   "end_time": "2023-05-06T17:23:27.533835",
   "environment_variables": {},
   "exception": null,
   "input_path": "__notebook__.ipynb",
   "output_path": "__notebook__.ipynb",
   "parameters": {},
   "start_time": "2023-05-06T16:30:22.514765",
   "version": "2.4.0"
  },
  "widgets": {
   "application/vnd.jupyter.widget-state+json": {
    "state": {
     "0c6f0e10c5034d0e84111dc69f366e36": {
      "model_module": "@jupyter-widgets/controls",
      "model_module_version": "1.5.0",
      "model_name": "HTMLModel",
      "state": {
       "_dom_classes": [],
       "_model_module": "@jupyter-widgets/controls",
       "_model_module_version": "1.5.0",
       "_model_name": "HTMLModel",
       "_view_count": null,
       "_view_module": "@jupyter-widgets/controls",
       "_view_module_version": "1.5.0",
       "_view_name": "HTMLView",
       "description": "",
       "description_tooltip": null,
       "layout": "IPY_MODEL_56117bfa78274d509c6a73bb80b92f1b",
       "placeholder": "​",
       "style": "IPY_MODEL_5828b86cd70441d5b45eb4f2e10c9c39",
       "value": "Downloading spm.model: 100%"
      }
     },
     "0fcfea28e62a495080b4fe2ac938ab97": {
      "model_module": "@jupyter-widgets/controls",
      "model_module_version": "1.5.0",
      "model_name": "ProgressStyleModel",
      "state": {
       "_model_module": "@jupyter-widgets/controls",
       "_model_module_version": "1.5.0",
       "_model_name": "ProgressStyleModel",
       "_view_count": null,
       "_view_module": "@jupyter-widgets/base",
       "_view_module_version": "1.2.0",
       "_view_name": "StyleView",
       "bar_color": null,
       "description_width": ""
      }
     },
     "156f796b846741a887e1b954074c3381": {
      "model_module": "@jupyter-widgets/base",
      "model_module_version": "1.2.0",
      "model_name": "LayoutModel",
      "state": {
       "_model_module": "@jupyter-widgets/base",
       "_model_module_version": "1.2.0",
       "_model_name": "LayoutModel",
       "_view_count": null,
       "_view_module": "@jupyter-widgets/base",
       "_view_module_version": "1.2.0",
       "_view_name": "LayoutView",
       "align_content": null,
       "align_items": null,
       "align_self": null,
       "border": null,
       "bottom": null,
       "display": null,
       "flex": null,
       "flex_flow": null,
       "grid_area": null,
       "grid_auto_columns": null,
       "grid_auto_flow": null,
       "grid_auto_rows": null,
       "grid_column": null,
       "grid_gap": null,
       "grid_row": null,
       "grid_template_areas": null,
       "grid_template_columns": null,
       "grid_template_rows": null,
       "height": null,
       "justify_content": null,
       "justify_items": null,
       "left": null,
       "margin": null,
       "max_height": null,
       "max_width": null,
       "min_height": null,
       "min_width": null,
       "object_fit": null,
       "object_position": null,
       "order": null,
       "overflow": null,
       "overflow_x": null,
       "overflow_y": null,
       "padding": null,
       "right": null,
       "top": null,
       "visibility": null,
       "width": null
      }
     },
     "165382056ff74fdf8761cb1e98f06f05": {
      "model_module": "@jupyter-widgets/base",
      "model_module_version": "1.2.0",
      "model_name": "LayoutModel",
      "state": {
       "_model_module": "@jupyter-widgets/base",
       "_model_module_version": "1.2.0",
       "_model_name": "LayoutModel",
       "_view_count": null,
       "_view_module": "@jupyter-widgets/base",
       "_view_module_version": "1.2.0",
       "_view_name": "LayoutView",
       "align_content": null,
       "align_items": null,
       "align_self": null,
       "border": null,
       "bottom": null,
       "display": null,
       "flex": null,
       "flex_flow": null,
       "grid_area": null,
       "grid_auto_columns": null,
       "grid_auto_flow": null,
       "grid_auto_rows": null,
       "grid_column": null,
       "grid_gap": null,
       "grid_row": null,
       "grid_template_areas": null,
       "grid_template_columns": null,
       "grid_template_rows": null,
       "height": null,
       "justify_content": null,
       "justify_items": null,
       "left": null,
       "margin": null,
       "max_height": null,
       "max_width": null,
       "min_height": null,
       "min_width": null,
       "object_fit": null,
       "object_position": null,
       "order": null,
       "overflow": null,
       "overflow_x": null,
       "overflow_y": null,
       "padding": null,
       "right": null,
       "top": null,
       "visibility": null,
       "width": null
      }
     },
     "1c2ef91bf30d4f79b7c141f612d4d9f2": {
      "model_module": "@jupyter-widgets/controls",
      "model_module_version": "1.5.0",
      "model_name": "DescriptionStyleModel",
      "state": {
       "_model_module": "@jupyter-widgets/controls",
       "_model_module_version": "1.5.0",
       "_model_name": "DescriptionStyleModel",
       "_view_count": null,
       "_view_module": "@jupyter-widgets/base",
       "_view_module_version": "1.2.0",
       "_view_name": "StyleView",
       "description_width": ""
      }
     },
     "2ac56f7685ec46d48efb126f9f0a26cb": {
      "model_module": "@jupyter-widgets/controls",
      "model_module_version": "1.5.0",
      "model_name": "DescriptionStyleModel",
      "state": {
       "_model_module": "@jupyter-widgets/controls",
       "_model_module_version": "1.5.0",
       "_model_name": "DescriptionStyleModel",
       "_view_count": null,
       "_view_module": "@jupyter-widgets/base",
       "_view_module_version": "1.2.0",
       "_view_name": "StyleView",
       "description_width": ""
      }
     },
     "31266f5430b245e7ba063896174659de": {
      "model_module": "@jupyter-widgets/controls",
      "model_module_version": "1.5.0",
      "model_name": "HBoxModel",
      "state": {
       "_dom_classes": [],
       "_model_module": "@jupyter-widgets/controls",
       "_model_module_version": "1.5.0",
       "_model_name": "HBoxModel",
       "_view_count": null,
       "_view_module": "@jupyter-widgets/controls",
       "_view_module_version": "1.5.0",
       "_view_name": "HBoxView",
       "box_style": "",
       "children": [
        "IPY_MODEL_0c6f0e10c5034d0e84111dc69f366e36",
        "IPY_MODEL_52b7fb7577864d94833e52d597271c48",
        "IPY_MODEL_95fa7a8219d14740b8f167802b893d58"
       ],
       "layout": "IPY_MODEL_c36f3f5ec0f84698af6ba48917ee2719"
      }
     },
     "3d70939c1ed84803a5627b18d8e9438b": {
      "model_module": "@jupyter-widgets/base",
      "model_module_version": "1.2.0",
      "model_name": "LayoutModel",
      "state": {
       "_model_module": "@jupyter-widgets/base",
       "_model_module_version": "1.2.0",
       "_model_name": "LayoutModel",
       "_view_count": null,
       "_view_module": "@jupyter-widgets/base",
       "_view_module_version": "1.2.0",
       "_view_name": "LayoutView",
       "align_content": null,
       "align_items": null,
       "align_self": null,
       "border": null,
       "bottom": null,
       "display": null,
       "flex": null,
       "flex_flow": null,
       "grid_area": null,
       "grid_auto_columns": null,
       "grid_auto_flow": null,
       "grid_auto_rows": null,
       "grid_column": null,
       "grid_gap": null,
       "grid_row": null,
       "grid_template_areas": null,
       "grid_template_columns": null,
       "grid_template_rows": null,
       "height": null,
       "justify_content": null,
       "justify_items": null,
       "left": null,
       "margin": null,
       "max_height": null,
       "max_width": null,
       "min_height": null,
       "min_width": null,
       "object_fit": null,
       "object_position": null,
       "order": null,
       "overflow": null,
       "overflow_x": null,
       "overflow_y": null,
       "padding": null,
       "right": null,
       "top": null,
       "visibility": null,
       "width": null
      }
     },
     "4e19a4d5117d4bffa9a57de1835511d5": {
      "model_module": "@jupyter-widgets/base",
      "model_module_version": "1.2.0",
      "model_name": "LayoutModel",
      "state": {
       "_model_module": "@jupyter-widgets/base",
       "_model_module_version": "1.2.0",
       "_model_name": "LayoutModel",
       "_view_count": null,
       "_view_module": "@jupyter-widgets/base",
       "_view_module_version": "1.2.0",
       "_view_name": "LayoutView",
       "align_content": null,
       "align_items": null,
       "align_self": null,
       "border": null,
       "bottom": null,
       "display": null,
       "flex": null,
       "flex_flow": null,
       "grid_area": null,
       "grid_auto_columns": null,
       "grid_auto_flow": null,
       "grid_auto_rows": null,
       "grid_column": null,
       "grid_gap": null,
       "grid_row": null,
       "grid_template_areas": null,
       "grid_template_columns": null,
       "grid_template_rows": null,
       "height": null,
       "justify_content": null,
       "justify_items": null,
       "left": null,
       "margin": null,
       "max_height": null,
       "max_width": null,
       "min_height": null,
       "min_width": null,
       "object_fit": null,
       "object_position": null,
       "order": null,
       "overflow": null,
       "overflow_x": null,
       "overflow_y": null,
       "padding": null,
       "right": null,
       "top": null,
       "visibility": null,
       "width": null
      }
     },
     "52a131ffaea640459fb171b2dfa511b9": {
      "model_module": "@jupyter-widgets/base",
      "model_module_version": "1.2.0",
      "model_name": "LayoutModel",
      "state": {
       "_model_module": "@jupyter-widgets/base",
       "_model_module_version": "1.2.0",
       "_model_name": "LayoutModel",
       "_view_count": null,
       "_view_module": "@jupyter-widgets/base",
       "_view_module_version": "1.2.0",
       "_view_name": "LayoutView",
       "align_content": null,
       "align_items": null,
       "align_self": null,
       "border": null,
       "bottom": null,
       "display": null,
       "flex": null,
       "flex_flow": null,
       "grid_area": null,
       "grid_auto_columns": null,
       "grid_auto_flow": null,
       "grid_auto_rows": null,
       "grid_column": null,
       "grid_gap": null,
       "grid_row": null,
       "grid_template_areas": null,
       "grid_template_columns": null,
       "grid_template_rows": null,
       "height": null,
       "justify_content": null,
       "justify_items": null,
       "left": null,
       "margin": null,
       "max_height": null,
       "max_width": null,
       "min_height": null,
       "min_width": null,
       "object_fit": null,
       "object_position": null,
       "order": null,
       "overflow": null,
       "overflow_x": null,
       "overflow_y": null,
       "padding": null,
       "right": null,
       "top": null,
       "visibility": null,
       "width": null
      }
     },
     "52b7fb7577864d94833e52d597271c48": {
      "model_module": "@jupyter-widgets/controls",
      "model_module_version": "1.5.0",
      "model_name": "FloatProgressModel",
      "state": {
       "_dom_classes": [],
       "_model_module": "@jupyter-widgets/controls",
       "_model_module_version": "1.5.0",
       "_model_name": "FloatProgressModel",
       "_view_count": null,
       "_view_module": "@jupyter-widgets/controls",
       "_view_module_version": "1.5.0",
       "_view_name": "ProgressView",
       "bar_style": "success",
       "description": "",
       "description_tooltip": null,
       "layout": "IPY_MODEL_3d70939c1ed84803a5627b18d8e9438b",
       "max": 2464616.0,
       "min": 0.0,
       "orientation": "horizontal",
       "style": "IPY_MODEL_f5a259e0c77647e985643810f3ce851f",
       "value": 2464616.0
      }
     },
     "5455dc4fa5cc498aa4ed45342e87c8b9": {
      "model_module": "@jupyter-widgets/base",
      "model_module_version": "1.2.0",
      "model_name": "LayoutModel",
      "state": {
       "_model_module": "@jupyter-widgets/base",
       "_model_module_version": "1.2.0",
       "_model_name": "LayoutModel",
       "_view_count": null,
       "_view_module": "@jupyter-widgets/base",
       "_view_module_version": "1.2.0",
       "_view_name": "LayoutView",
       "align_content": null,
       "align_items": null,
       "align_self": null,
       "border": null,
       "bottom": null,
       "display": null,
       "flex": null,
       "flex_flow": null,
       "grid_area": null,
       "grid_auto_columns": null,
       "grid_auto_flow": null,
       "grid_auto_rows": null,
       "grid_column": null,
       "grid_gap": null,
       "grid_row": null,
       "grid_template_areas": null,
       "grid_template_columns": null,
       "grid_template_rows": null,
       "height": null,
       "justify_content": null,
       "justify_items": null,
       "left": null,
       "margin": null,
       "max_height": null,
       "max_width": null,
       "min_height": null,
       "min_width": null,
       "object_fit": null,
       "object_position": null,
       "order": null,
       "overflow": null,
       "overflow_x": null,
       "overflow_y": null,
       "padding": null,
       "right": null,
       "top": null,
       "visibility": null,
       "width": null
      }
     },
     "56117bfa78274d509c6a73bb80b92f1b": {
      "model_module": "@jupyter-widgets/base",
      "model_module_version": "1.2.0",
      "model_name": "LayoutModel",
      "state": {
       "_model_module": "@jupyter-widgets/base",
       "_model_module_version": "1.2.0",
       "_model_name": "LayoutModel",
       "_view_count": null,
       "_view_module": "@jupyter-widgets/base",
       "_view_module_version": "1.2.0",
       "_view_name": "LayoutView",
       "align_content": null,
       "align_items": null,
       "align_self": null,
       "border": null,
       "bottom": null,
       "display": null,
       "flex": null,
       "flex_flow": null,
       "grid_area": null,
       "grid_auto_columns": null,
       "grid_auto_flow": null,
       "grid_auto_rows": null,
       "grid_column": null,
       "grid_gap": null,
       "grid_row": null,
       "grid_template_areas": null,
       "grid_template_columns": null,
       "grid_template_rows": null,
       "height": null,
       "justify_content": null,
       "justify_items": null,
       "left": null,
       "margin": null,
       "max_height": null,
       "max_width": null,
       "min_height": null,
       "min_width": null,
       "object_fit": null,
       "object_position": null,
       "order": null,
       "overflow": null,
       "overflow_x": null,
       "overflow_y": null,
       "padding": null,
       "right": null,
       "top": null,
       "visibility": null,
       "width": null
      }
     },
     "56206977d72e4709acf3e6d02beaa14c": {
      "model_module": "@jupyter-widgets/controls",
      "model_module_version": "1.5.0",
      "model_name": "HTMLModel",
      "state": {
       "_dom_classes": [],
       "_model_module": "@jupyter-widgets/controls",
       "_model_module_version": "1.5.0",
       "_model_name": "HTMLModel",
       "_view_count": null,
       "_view_module": "@jupyter-widgets/controls",
       "_view_module_version": "1.5.0",
       "_view_name": "HTMLView",
       "description": "",
       "description_tooltip": null,
       "layout": "IPY_MODEL_52a131ffaea640459fb171b2dfa511b9",
       "placeholder": "​",
       "style": "IPY_MODEL_7ac53f5d00974ccda4a15c8fc7b19179",
       "value": "Downloading tf_model.h5: 100%"
      }
     },
     "5828b86cd70441d5b45eb4f2e10c9c39": {
      "model_module": "@jupyter-widgets/controls",
      "model_module_version": "1.5.0",
      "model_name": "DescriptionStyleModel",
      "state": {
       "_model_module": "@jupyter-widgets/controls",
       "_model_module_version": "1.5.0",
       "_model_name": "DescriptionStyleModel",
       "_view_count": null,
       "_view_module": "@jupyter-widgets/base",
       "_view_module_version": "1.2.0",
       "_view_name": "StyleView",
       "description_width": ""
      }
     },
     "5a069f94e15e498fa082ebf7609bae30": {
      "model_module": "@jupyter-widgets/controls",
      "model_module_version": "1.5.0",
      "model_name": "DescriptionStyleModel",
      "state": {
       "_model_module": "@jupyter-widgets/controls",
       "_model_module_version": "1.5.0",
       "_model_name": "DescriptionStyleModel",
       "_view_count": null,
       "_view_module": "@jupyter-widgets/base",
       "_view_module_version": "1.2.0",
       "_view_name": "StyleView",
       "description_width": ""
      }
     },
     "69053f793d6b4c6ea59c1d58785a1485": {
      "model_module": "@jupyter-widgets/controls",
      "model_module_version": "1.5.0",
      "model_name": "DescriptionStyleModel",
      "state": {
       "_model_module": "@jupyter-widgets/controls",
       "_model_module_version": "1.5.0",
       "_model_name": "DescriptionStyleModel",
       "_view_count": null,
       "_view_module": "@jupyter-widgets/base",
       "_view_module_version": "1.2.0",
       "_view_name": "StyleView",
       "description_width": ""
      }
     },
     "74eb6a65b15748a3851f38f5ee0f6dc0": {
      "model_module": "@jupyter-widgets/controls",
      "model_module_version": "1.5.0",
      "model_name": "HTMLModel",
      "state": {
       "_dom_classes": [],
       "_model_module": "@jupyter-widgets/controls",
       "_model_module_version": "1.5.0",
       "_model_name": "HTMLModel",
       "_view_count": null,
       "_view_module": "@jupyter-widgets/controls",
       "_view_module_version": "1.5.0",
       "_view_name": "HTMLView",
       "description": "",
       "description_tooltip": null,
       "layout": "IPY_MODEL_de624c30b2d34df5bc0d7664ffbd7848",
       "placeholder": "​",
       "style": "IPY_MODEL_7d72a2ecd46340f1813cebbee45b1762",
       "value": " 736M/736M [00:03&lt;00:00, 216MB/s]"
      }
     },
     "7ac53f5d00974ccda4a15c8fc7b19179": {
      "model_module": "@jupyter-widgets/controls",
      "model_module_version": "1.5.0",
      "model_name": "DescriptionStyleModel",
      "state": {
       "_model_module": "@jupyter-widgets/controls",
       "_model_module_version": "1.5.0",
       "_model_name": "DescriptionStyleModel",
       "_view_count": null,
       "_view_module": "@jupyter-widgets/base",
       "_view_module_version": "1.2.0",
       "_view_name": "StyleView",
       "description_width": ""
      }
     },
     "7d72a2ecd46340f1813cebbee45b1762": {
      "model_module": "@jupyter-widgets/controls",
      "model_module_version": "1.5.0",
      "model_name": "DescriptionStyleModel",
      "state": {
       "_model_module": "@jupyter-widgets/controls",
       "_model_module_version": "1.5.0",
       "_model_name": "DescriptionStyleModel",
       "_view_count": null,
       "_view_module": "@jupyter-widgets/base",
       "_view_module_version": "1.2.0",
       "_view_name": "StyleView",
       "description_width": ""
      }
     },
     "896e438f0f0a49eeb9cae2e34943c62a": {
      "model_module": "@jupyter-widgets/controls",
      "model_module_version": "1.5.0",
      "model_name": "HBoxModel",
      "state": {
       "_dom_classes": [],
       "_model_module": "@jupyter-widgets/controls",
       "_model_module_version": "1.5.0",
       "_model_name": "HBoxModel",
       "_view_count": null,
       "_view_module": "@jupyter-widgets/controls",
       "_view_module_version": "1.5.0",
       "_view_name": "HBoxView",
       "box_style": "",
       "children": [
        "IPY_MODEL_f7d11d00bfbe48fabd5308cfa735b1e6",
        "IPY_MODEL_d024f00859784902802b404af1daeb5a",
        "IPY_MODEL_d09da7d6c89d43a59c9a7fd6b4404e79"
       ],
       "layout": "IPY_MODEL_156f796b846741a887e1b954074c3381"
      }
     },
     "95fa7a8219d14740b8f167802b893d58": {
      "model_module": "@jupyter-widgets/controls",
      "model_module_version": "1.5.0",
      "model_name": "HTMLModel",
      "state": {
       "_dom_classes": [],
       "_model_module": "@jupyter-widgets/controls",
       "_model_module_version": "1.5.0",
       "_model_name": "HTMLModel",
       "_view_count": null,
       "_view_module": "@jupyter-widgets/controls",
       "_view_module_version": "1.5.0",
       "_view_name": "HTMLView",
       "description": "",
       "description_tooltip": null,
       "layout": "IPY_MODEL_a9fe523350e3465a9958c13aa38ec022",
       "placeholder": "​",
       "style": "IPY_MODEL_2ac56f7685ec46d48efb126f9f0a26cb",
       "value": " 2.46M/2.46M [00:00&lt;00:00, 25.3MB/s]"
      }
     },
     "9dac17fa1c73433284acb1f786a72686": {
      "model_module": "@jupyter-widgets/controls",
      "model_module_version": "1.5.0",
      "model_name": "FloatProgressModel",
      "state": {
       "_dom_classes": [],
       "_model_module": "@jupyter-widgets/controls",
       "_model_module_version": "1.5.0",
       "_model_name": "FloatProgressModel",
       "_view_count": null,
       "_view_module": "@jupyter-widgets/controls",
       "_view_module_version": "1.5.0",
       "_view_name": "ProgressView",
       "bar_style": "success",
       "description": "",
       "description_tooltip": null,
       "layout": "IPY_MODEL_a74084c8d7df4e2e96643e50765bff4e",
       "max": 735589384.0,
       "min": 0.0,
       "orientation": "horizontal",
       "style": "IPY_MODEL_f7822779b26144af98097bfdb74bf615",
       "value": 735589384.0
      }
     },
     "9e2691a1933b43bdae117f96cd956c43": {
      "model_module": "@jupyter-widgets/controls",
      "model_module_version": "1.5.0",
      "model_name": "FloatProgressModel",
      "state": {
       "_dom_classes": [],
       "_model_module": "@jupyter-widgets/controls",
       "_model_module_version": "1.5.0",
       "_model_name": "FloatProgressModel",
       "_view_count": null,
       "_view_module": "@jupyter-widgets/controls",
       "_view_module_version": "1.5.0",
       "_view_name": "ProgressView",
       "bar_style": "success",
       "description": "",
       "description_tooltip": null,
       "layout": "IPY_MODEL_b2014372642f404baed864fb768bed96",
       "max": 579.0,
       "min": 0.0,
       "orientation": "horizontal",
       "style": "IPY_MODEL_cbc98574f6354983b74ce3df798d48c1",
       "value": 579.0
      }
     },
     "a74084c8d7df4e2e96643e50765bff4e": {
      "model_module": "@jupyter-widgets/base",
      "model_module_version": "1.2.0",
      "model_name": "LayoutModel",
      "state": {
       "_model_module": "@jupyter-widgets/base",
       "_model_module_version": "1.2.0",
       "_model_name": "LayoutModel",
       "_view_count": null,
       "_view_module": "@jupyter-widgets/base",
       "_view_module_version": "1.2.0",
       "_view_name": "LayoutView",
       "align_content": null,
       "align_items": null,
       "align_self": null,
       "border": null,
       "bottom": null,
       "display": null,
       "flex": null,
       "flex_flow": null,
       "grid_area": null,
       "grid_auto_columns": null,
       "grid_auto_flow": null,
       "grid_auto_rows": null,
       "grid_column": null,
       "grid_gap": null,
       "grid_row": null,
       "grid_template_areas": null,
       "grid_template_columns": null,
       "grid_template_rows": null,
       "height": null,
       "justify_content": null,
       "justify_items": null,
       "left": null,
       "margin": null,
       "max_height": null,
       "max_width": null,
       "min_height": null,
       "min_width": null,
       "object_fit": null,
       "object_position": null,
       "order": null,
       "overflow": null,
       "overflow_x": null,
       "overflow_y": null,
       "padding": null,
       "right": null,
       "top": null,
       "visibility": null,
       "width": null
      }
     },
     "a9fe523350e3465a9958c13aa38ec022": {
      "model_module": "@jupyter-widgets/base",
      "model_module_version": "1.2.0",
      "model_name": "LayoutModel",
      "state": {
       "_model_module": "@jupyter-widgets/base",
       "_model_module_version": "1.2.0",
       "_model_name": "LayoutModel",
       "_view_count": null,
       "_view_module": "@jupyter-widgets/base",
       "_view_module_version": "1.2.0",
       "_view_name": "LayoutView",
       "align_content": null,
       "align_items": null,
       "align_self": null,
       "border": null,
       "bottom": null,
       "display": null,
       "flex": null,
       "flex_flow": null,
       "grid_area": null,
       "grid_auto_columns": null,
       "grid_auto_flow": null,
       "grid_auto_rows": null,
       "grid_column": null,
       "grid_gap": null,
       "grid_row": null,
       "grid_template_areas": null,
       "grid_template_columns": null,
       "grid_template_rows": null,
       "height": null,
       "justify_content": null,
       "justify_items": null,
       "left": null,
       "margin": null,
       "max_height": null,
       "max_width": null,
       "min_height": null,
       "min_width": null,
       "object_fit": null,
       "object_position": null,
       "order": null,
       "overflow": null,
       "overflow_x": null,
       "overflow_y": null,
       "padding": null,
       "right": null,
       "top": null,
       "visibility": null,
       "width": null
      }
     },
     "b1a7a65e9481434b9c276e00bf099b1e": {
      "model_module": "@jupyter-widgets/controls",
      "model_module_version": "1.5.0",
      "model_name": "HTMLModel",
      "state": {
       "_dom_classes": [],
       "_model_module": "@jupyter-widgets/controls",
       "_model_module_version": "1.5.0",
       "_model_name": "HTMLModel",
       "_view_count": null,
       "_view_module": "@jupyter-widgets/controls",
       "_view_module_version": "1.5.0",
       "_view_name": "HTMLView",
       "description": "",
       "description_tooltip": null,
       "layout": "IPY_MODEL_be6173529d6a4ca4b46a316689c04af7",
       "placeholder": "​",
       "style": "IPY_MODEL_69053f793d6b4c6ea59c1d58785a1485",
       "value": " 579/579 [00:00&lt;00:00, 33.8kB/s]"
      }
     },
     "b2014372642f404baed864fb768bed96": {
      "model_module": "@jupyter-widgets/base",
      "model_module_version": "1.2.0",
      "model_name": "LayoutModel",
      "state": {
       "_model_module": "@jupyter-widgets/base",
       "_model_module_version": "1.2.0",
       "_model_name": "LayoutModel",
       "_view_count": null,
       "_view_module": "@jupyter-widgets/base",
       "_view_module_version": "1.2.0",
       "_view_name": "LayoutView",
       "align_content": null,
       "align_items": null,
       "align_self": null,
       "border": null,
       "bottom": null,
       "display": null,
       "flex": null,
       "flex_flow": null,
       "grid_area": null,
       "grid_auto_columns": null,
       "grid_auto_flow": null,
       "grid_auto_rows": null,
       "grid_column": null,
       "grid_gap": null,
       "grid_row": null,
       "grid_template_areas": null,
       "grid_template_columns": null,
       "grid_template_rows": null,
       "height": null,
       "justify_content": null,
       "justify_items": null,
       "left": null,
       "margin": null,
       "max_height": null,
       "max_width": null,
       "min_height": null,
       "min_width": null,
       "object_fit": null,
       "object_position": null,
       "order": null,
       "overflow": null,
       "overflow_x": null,
       "overflow_y": null,
       "padding": null,
       "right": null,
       "top": null,
       "visibility": null,
       "width": null
      }
     },
     "be6173529d6a4ca4b46a316689c04af7": {
      "model_module": "@jupyter-widgets/base",
      "model_module_version": "1.2.0",
      "model_name": "LayoutModel",
      "state": {
       "_model_module": "@jupyter-widgets/base",
       "_model_module_version": "1.2.0",
       "_model_name": "LayoutModel",
       "_view_count": null,
       "_view_module": "@jupyter-widgets/base",
       "_view_module_version": "1.2.0",
       "_view_name": "LayoutView",
       "align_content": null,
       "align_items": null,
       "align_self": null,
       "border": null,
       "bottom": null,
       "display": null,
       "flex": null,
       "flex_flow": null,
       "grid_area": null,
       "grid_auto_columns": null,
       "grid_auto_flow": null,
       "grid_auto_rows": null,
       "grid_column": null,
       "grid_gap": null,
       "grid_row": null,
       "grid_template_areas": null,
       "grid_template_columns": null,
       "grid_template_rows": null,
       "height": null,
       "justify_content": null,
       "justify_items": null,
       "left": null,
       "margin": null,
       "max_height": null,
       "max_width": null,
       "min_height": null,
       "min_width": null,
       "object_fit": null,
       "object_position": null,
       "order": null,
       "overflow": null,
       "overflow_x": null,
       "overflow_y": null,
       "padding": null,
       "right": null,
       "top": null,
       "visibility": null,
       "width": null
      }
     },
     "c17c8a38bc7846c49fff9524441ae33e": {
      "model_module": "@jupyter-widgets/base",
      "model_module_version": "1.2.0",
      "model_name": "LayoutModel",
      "state": {
       "_model_module": "@jupyter-widgets/base",
       "_model_module_version": "1.2.0",
       "_model_name": "LayoutModel",
       "_view_count": null,
       "_view_module": "@jupyter-widgets/base",
       "_view_module_version": "1.2.0",
       "_view_name": "LayoutView",
       "align_content": null,
       "align_items": null,
       "align_self": null,
       "border": null,
       "bottom": null,
       "display": null,
       "flex": null,
       "flex_flow": null,
       "grid_area": null,
       "grid_auto_columns": null,
       "grid_auto_flow": null,
       "grid_auto_rows": null,
       "grid_column": null,
       "grid_gap": null,
       "grid_row": null,
       "grid_template_areas": null,
       "grid_template_columns": null,
       "grid_template_rows": null,
       "height": null,
       "justify_content": null,
       "justify_items": null,
       "left": null,
       "margin": null,
       "max_height": null,
       "max_width": null,
       "min_height": null,
       "min_width": null,
       "object_fit": null,
       "object_position": null,
       "order": null,
       "overflow": null,
       "overflow_x": null,
       "overflow_y": null,
       "padding": null,
       "right": null,
       "top": null,
       "visibility": null,
       "width": null
      }
     },
     "c36f3f5ec0f84698af6ba48917ee2719": {
      "model_module": "@jupyter-widgets/base",
      "model_module_version": "1.2.0",
      "model_name": "LayoutModel",
      "state": {
       "_model_module": "@jupyter-widgets/base",
       "_model_module_version": "1.2.0",
       "_model_name": "LayoutModel",
       "_view_count": null,
       "_view_module": "@jupyter-widgets/base",
       "_view_module_version": "1.2.0",
       "_view_name": "LayoutView",
       "align_content": null,
       "align_items": null,
       "align_self": null,
       "border": null,
       "bottom": null,
       "display": null,
       "flex": null,
       "flex_flow": null,
       "grid_area": null,
       "grid_auto_columns": null,
       "grid_auto_flow": null,
       "grid_auto_rows": null,
       "grid_column": null,
       "grid_gap": null,
       "grid_row": null,
       "grid_template_areas": null,
       "grid_template_columns": null,
       "grid_template_rows": null,
       "height": null,
       "justify_content": null,
       "justify_items": null,
       "left": null,
       "margin": null,
       "max_height": null,
       "max_width": null,
       "min_height": null,
       "min_width": null,
       "object_fit": null,
       "object_position": null,
       "order": null,
       "overflow": null,
       "overflow_x": null,
       "overflow_y": null,
       "padding": null,
       "right": null,
       "top": null,
       "visibility": null,
       "width": null
      }
     },
     "c92da7eb26574d0d971bccf5427311f0": {
      "model_module": "@jupyter-widgets/controls",
      "model_module_version": "1.5.0",
      "model_name": "DescriptionStyleModel",
      "state": {
       "_model_module": "@jupyter-widgets/controls",
       "_model_module_version": "1.5.0",
       "_model_name": "DescriptionStyleModel",
       "_view_count": null,
       "_view_module": "@jupyter-widgets/base",
       "_view_module_version": "1.2.0",
       "_view_name": "StyleView",
       "description_width": ""
      }
     },
     "cbc98574f6354983b74ce3df798d48c1": {
      "model_module": "@jupyter-widgets/controls",
      "model_module_version": "1.5.0",
      "model_name": "ProgressStyleModel",
      "state": {
       "_model_module": "@jupyter-widgets/controls",
       "_model_module_version": "1.5.0",
       "_model_name": "ProgressStyleModel",
       "_view_count": null,
       "_view_module": "@jupyter-widgets/base",
       "_view_module_version": "1.2.0",
       "_view_name": "StyleView",
       "bar_color": null,
       "description_width": ""
      }
     },
     "d024f00859784902802b404af1daeb5a": {
      "model_module": "@jupyter-widgets/controls",
      "model_module_version": "1.5.0",
      "model_name": "FloatProgressModel",
      "state": {
       "_dom_classes": [],
       "_model_module": "@jupyter-widgets/controls",
       "_model_module_version": "1.5.0",
       "_model_name": "FloatProgressModel",
       "_view_count": null,
       "_view_module": "@jupyter-widgets/controls",
       "_view_module_version": "1.5.0",
       "_view_name": "ProgressView",
       "bar_style": "success",
       "description": "",
       "description_tooltip": null,
       "layout": "IPY_MODEL_d650f130a49d494d837f25a4771a34e4",
       "max": 52.0,
       "min": 0.0,
       "orientation": "horizontal",
       "style": "IPY_MODEL_0fcfea28e62a495080b4fe2ac938ab97",
       "value": 52.0
      }
     },
     "d09da7d6c89d43a59c9a7fd6b4404e79": {
      "model_module": "@jupyter-widgets/controls",
      "model_module_version": "1.5.0",
      "model_name": "HTMLModel",
      "state": {
       "_dom_classes": [],
       "_model_module": "@jupyter-widgets/controls",
       "_model_module_version": "1.5.0",
       "_model_name": "HTMLModel",
       "_view_count": null,
       "_view_module": "@jupyter-widgets/controls",
       "_view_module_version": "1.5.0",
       "_view_name": "HTMLView",
       "description": "",
       "description_tooltip": null,
       "layout": "IPY_MODEL_c17c8a38bc7846c49fff9524441ae33e",
       "placeholder": "​",
       "style": "IPY_MODEL_1c2ef91bf30d4f79b7c141f612d4d9f2",
       "value": " 52.0/52.0 [00:00&lt;00:00, 2.04kB/s]"
      }
     },
     "d650f130a49d494d837f25a4771a34e4": {
      "model_module": "@jupyter-widgets/base",
      "model_module_version": "1.2.0",
      "model_name": "LayoutModel",
      "state": {
       "_model_module": "@jupyter-widgets/base",
       "_model_module_version": "1.2.0",
       "_model_name": "LayoutModel",
       "_view_count": null,
       "_view_module": "@jupyter-widgets/base",
       "_view_module_version": "1.2.0",
       "_view_name": "LayoutView",
       "align_content": null,
       "align_items": null,
       "align_self": null,
       "border": null,
       "bottom": null,
       "display": null,
       "flex": null,
       "flex_flow": null,
       "grid_area": null,
       "grid_auto_columns": null,
       "grid_auto_flow": null,
       "grid_auto_rows": null,
       "grid_column": null,
       "grid_gap": null,
       "grid_row": null,
       "grid_template_areas": null,
       "grid_template_columns": null,
       "grid_template_rows": null,
       "height": null,
       "justify_content": null,
       "justify_items": null,
       "left": null,
       "margin": null,
       "max_height": null,
       "max_width": null,
       "min_height": null,
       "min_width": null,
       "object_fit": null,
       "object_position": null,
       "order": null,
       "overflow": null,
       "overflow_x": null,
       "overflow_y": null,
       "padding": null,
       "right": null,
       "top": null,
       "visibility": null,
       "width": null
      }
     },
     "de624c30b2d34df5bc0d7664ffbd7848": {
      "model_module": "@jupyter-widgets/base",
      "model_module_version": "1.2.0",
      "model_name": "LayoutModel",
      "state": {
       "_model_module": "@jupyter-widgets/base",
       "_model_module_version": "1.2.0",
       "_model_name": "LayoutModel",
       "_view_count": null,
       "_view_module": "@jupyter-widgets/base",
       "_view_module_version": "1.2.0",
       "_view_name": "LayoutView",
       "align_content": null,
       "align_items": null,
       "align_self": null,
       "border": null,
       "bottom": null,
       "display": null,
       "flex": null,
       "flex_flow": null,
       "grid_area": null,
       "grid_auto_columns": null,
       "grid_auto_flow": null,
       "grid_auto_rows": null,
       "grid_column": null,
       "grid_gap": null,
       "grid_row": null,
       "grid_template_areas": null,
       "grid_template_columns": null,
       "grid_template_rows": null,
       "height": null,
       "justify_content": null,
       "justify_items": null,
       "left": null,
       "margin": null,
       "max_height": null,
       "max_width": null,
       "min_height": null,
       "min_width": null,
       "object_fit": null,
       "object_position": null,
       "order": null,
       "overflow": null,
       "overflow_x": null,
       "overflow_y": null,
       "padding": null,
       "right": null,
       "top": null,
       "visibility": null,
       "width": null
      }
     },
     "e4027f42a5f2423d80df6626742db945": {
      "model_module": "@jupyter-widgets/controls",
      "model_module_version": "1.5.0",
      "model_name": "HTMLModel",
      "state": {
       "_dom_classes": [],
       "_model_module": "@jupyter-widgets/controls",
       "_model_module_version": "1.5.0",
       "_model_name": "HTMLModel",
       "_view_count": null,
       "_view_module": "@jupyter-widgets/controls",
       "_view_module_version": "1.5.0",
       "_view_name": "HTMLView",
       "description": "",
       "description_tooltip": null,
       "layout": "IPY_MODEL_4e19a4d5117d4bffa9a57de1835511d5",
       "placeholder": "​",
       "style": "IPY_MODEL_5a069f94e15e498fa082ebf7609bae30",
       "value": "Downloading (…)lve/main/config.json: 100%"
      }
     },
     "ec63d46e2ce74b298f9cb7a610ed3176": {
      "model_module": "@jupyter-widgets/base",
      "model_module_version": "1.2.0",
      "model_name": "LayoutModel",
      "state": {
       "_model_module": "@jupyter-widgets/base",
       "_model_module_version": "1.2.0",
       "_model_name": "LayoutModel",
       "_view_count": null,
       "_view_module": "@jupyter-widgets/base",
       "_view_module_version": "1.2.0",
       "_view_name": "LayoutView",
       "align_content": null,
       "align_items": null,
       "align_self": null,
       "border": null,
       "bottom": null,
       "display": null,
       "flex": null,
       "flex_flow": null,
       "grid_area": null,
       "grid_auto_columns": null,
       "grid_auto_flow": null,
       "grid_auto_rows": null,
       "grid_column": null,
       "grid_gap": null,
       "grid_row": null,
       "grid_template_areas": null,
       "grid_template_columns": null,
       "grid_template_rows": null,
       "height": null,
       "justify_content": null,
       "justify_items": null,
       "left": null,
       "margin": null,
       "max_height": null,
       "max_width": null,
       "min_height": null,
       "min_width": null,
       "object_fit": null,
       "object_position": null,
       "order": null,
       "overflow": null,
       "overflow_x": null,
       "overflow_y": null,
       "padding": null,
       "right": null,
       "top": null,
       "visibility": null,
       "width": null
      }
     },
     "f5a259e0c77647e985643810f3ce851f": {
      "model_module": "@jupyter-widgets/controls",
      "model_module_version": "1.5.0",
      "model_name": "ProgressStyleModel",
      "state": {
       "_model_module": "@jupyter-widgets/controls",
       "_model_module_version": "1.5.0",
       "_model_name": "ProgressStyleModel",
       "_view_count": null,
       "_view_module": "@jupyter-widgets/base",
       "_view_module_version": "1.2.0",
       "_view_name": "StyleView",
       "bar_color": null,
       "description_width": ""
      }
     },
     "f7822779b26144af98097bfdb74bf615": {
      "model_module": "@jupyter-widgets/controls",
      "model_module_version": "1.5.0",
      "model_name": "ProgressStyleModel",
      "state": {
       "_model_module": "@jupyter-widgets/controls",
       "_model_module_version": "1.5.0",
       "_model_name": "ProgressStyleModel",
       "_view_count": null,
       "_view_module": "@jupyter-widgets/base",
       "_view_module_version": "1.2.0",
       "_view_name": "StyleView",
       "bar_color": null,
       "description_width": ""
      }
     },
     "f7d11d00bfbe48fabd5308cfa735b1e6": {
      "model_module": "@jupyter-widgets/controls",
      "model_module_version": "1.5.0",
      "model_name": "HTMLModel",
      "state": {
       "_dom_classes": [],
       "_model_module": "@jupyter-widgets/controls",
       "_model_module_version": "1.5.0",
       "_model_name": "HTMLModel",
       "_view_count": null,
       "_view_module": "@jupyter-widgets/controls",
       "_view_module_version": "1.5.0",
       "_view_name": "HTMLView",
       "description": "",
       "description_tooltip": null,
       "layout": "IPY_MODEL_ec63d46e2ce74b298f9cb7a610ed3176",
       "placeholder": "​",
       "style": "IPY_MODEL_c92da7eb26574d0d971bccf5427311f0",
       "value": "Downloading (…)okenizer_config.json: 100%"
      }
     },
     "fd0bf1b674ff4297952572bd7cb2c3bd": {
      "model_module": "@jupyter-widgets/controls",
      "model_module_version": "1.5.0",
      "model_name": "HBoxModel",
      "state": {
       "_dom_classes": [],
       "_model_module": "@jupyter-widgets/controls",
       "_model_module_version": "1.5.0",
       "_model_name": "HBoxModel",
       "_view_count": null,
       "_view_module": "@jupyter-widgets/controls",
       "_view_module_version": "1.5.0",
       "_view_name": "HBoxView",
       "box_style": "",
       "children": [
        "IPY_MODEL_e4027f42a5f2423d80df6626742db945",
        "IPY_MODEL_9e2691a1933b43bdae117f96cd956c43",
        "IPY_MODEL_b1a7a65e9481434b9c276e00bf099b1e"
       ],
       "layout": "IPY_MODEL_5455dc4fa5cc498aa4ed45342e87c8b9"
      }
     },
     "fff461be73ff4ce9b1a636aaefc350e0": {
      "model_module": "@jupyter-widgets/controls",
      "model_module_version": "1.5.0",
      "model_name": "HBoxModel",
      "state": {
       "_dom_classes": [],
       "_model_module": "@jupyter-widgets/controls",
       "_model_module_version": "1.5.0",
       "_model_name": "HBoxModel",
       "_view_count": null,
       "_view_module": "@jupyter-widgets/controls",
       "_view_module_version": "1.5.0",
       "_view_name": "HBoxView",
       "box_style": "",
       "children": [
        "IPY_MODEL_56206977d72e4709acf3e6d02beaa14c",
        "IPY_MODEL_9dac17fa1c73433284acb1f786a72686",
        "IPY_MODEL_74eb6a65b15748a3851f38f5ee0f6dc0"
       ],
       "layout": "IPY_MODEL_165382056ff74fdf8761cb1e98f06f05"
      }
     }
    },
    "version_major": 2,
    "version_minor": 0
   }
  }
 },
 "nbformat": 4,
 "nbformat_minor": 5
}
